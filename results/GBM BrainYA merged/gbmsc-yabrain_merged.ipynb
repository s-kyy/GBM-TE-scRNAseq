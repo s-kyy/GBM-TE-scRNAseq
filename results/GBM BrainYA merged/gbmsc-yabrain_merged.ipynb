{
 "cells": [
  {
   "cell_type": "markdown",
   "id": "universal-greek",
   "metadata": {
    "heading_collapsed": true
   },
   "source": [
    "## Merging Disease and Control Samples\n",
    "\n",
    "2021-09-03: \n",
    "\n",
    "Our goal here is to see when we merge samples extracted from patients with GBM with healthy samples would the cluster together or separately?\n",
    "\n",
    "Hypothesis: If disease samples cluster separately with the control samples, then the transcriptome can help differentiate between disease state and normal state."
   ]
  },
  {
   "cell_type": "markdown",
   "id": "ethical-plastic",
   "metadata": {
    "hidden": true
   },
   "source": [
    "Table: Healthy Brain Samples\n",
    "\n",
    "| #   | Run        | Sample Name  | Instrument | Age | Sex    | Tissue                   |\n",
    "| --- | ---------- | ------------ | ---------- | --- | ------ | ------------------------ |\n",
    "| 1   | SRR9264382 | 5981_BA9_10x | Novaseq    | 44  | Female | Brain, prefrontal cortex |\n",
    "| 2   | SRR9264383 | 5546_BA9_10x | Novaseq    | 34  | Female | Brain, prefrontal cortex |\n",
    "| 3   | SRR9264388 | 5609_BA9_10x | Novaseq    | 54  | Female | Brain, prefrontal cortex |\n",
    "| 4   | SRR9264389 | 5787_BA9_10x | Novaseq    | 39  | Male   | Brain, prefrontal cortex |\n",
    "| 5   | SRR9262938 | 5958_BA9_10x | Novaseq    | 22  | Male  | Brain, prefrontal cortex |\n",
    "| 6   | SRR9262956 | 5577_BA9_10x | Novaseq    | 21  | Male  | Brain, prefrontal cortex |\n",
    "\n",
    "Table: GBM Samples\n",
    "\n",
    "| #   | Sample Name | Instrument          | Age | Sex    | Disease |\n",
    "| --- | ----------- | ------------------- | --- | ------ | ------- |\n",
    "| 1   | SF...159    | Illumina HiSeq 2000 | 60  | Male   | GBM IV  |\n",
    "| 2   | SF...209    | Illumina HiSeq 2000 | 62  | Female | GBM IV  |\n",
    "| 3   | SF...215    | Illumina HiSeq 2000 | 46  | Male   | GBM IV  |\n",
    "| 4   | SF...232    | Illumina HiSeq 2000 | 65  | Male   | GBM IV  |\n",
    "| 5   | SF...247    | Illumina HiSeq 2000 | 45  | Male   | GBM IV  |\n",
    "| 6   | SF...285    | Illumina HiSeq 2000 | 54  | Male   | GBM IV  |\n",
    "\n",
    "Table: NCS Samples\n",
    "\n",
    "| #   | Run         | Sample Name | Instrument          | Disease         |\n",
    "| --- | ----------- | ----------- | ------------------- | --------------- |\n",
    "| 1   | SRR10353960 | GBM27       | Illumina HiSeq 2000 | GBM IV CD133+/+ |\n",
    "| 2   | SRR10353961 | GBM28       | Illumina HiSeq 2000 | GBM IV CD133+/+ |\n",
    "| 3   | SRR10353962 | GBM29       | Illumina HiSeq 2000 | GBM IV CD133+/+ |"
   ]
  },
  {
   "cell_type": "code",
   "execution_count": 1,
   "id": "clinical-pixel",
   "metadata": {
    "hidden": true
   },
   "outputs": [
    {
     "data": {
      "text/html": [
       "<style>\n",
       ".list-inline {list-style: none; margin:0; padding: 0}\n",
       ".list-inline>li {display: inline-block}\n",
       ".list-inline>li:not(:last-child)::after {content: \"\\00b7\"; padding: 0 .5ex}\n",
       "</style>\n",
       "<ol class=list-inline><li>'/scratch/samkyy/gete-gbm/renv/library/R-4.0/x86_64-pc-linux-gnu'</li><li>'/home/samkyy/R/x86_64-pc-linux-gnu-library/4.0'</li><li>'/cvmfs/soft.computecanada.ca/easybuild/software/2020/avx2/Core/r/4.0.2/lib64/R/library'</li></ol>\n"
      ],
      "text/latex": [
       "\\begin{enumerate*}\n",
       "\\item '/scratch/samkyy/gete-gbm/renv/library/R-4.0/x86\\_64-pc-linux-gnu'\n",
       "\\item '/home/samkyy/R/x86\\_64-pc-linux-gnu-library/4.0'\n",
       "\\item '/cvmfs/soft.computecanada.ca/easybuild/software/2020/avx2/Core/r/4.0.2/lib64/R/library'\n",
       "\\end{enumerate*}\n"
      ],
      "text/markdown": [
       "1. '/scratch/samkyy/gete-gbm/renv/library/R-4.0/x86_64-pc-linux-gnu'\n",
       "2. '/home/samkyy/R/x86_64-pc-linux-gnu-library/4.0'\n",
       "3. '/cvmfs/soft.computecanada.ca/easybuild/software/2020/avx2/Core/r/4.0.2/lib64/R/library'\n",
       "\n",
       "\n"
      ],
      "text/plain": [
       "[1] \"/scratch/samkyy/gete-gbm/renv/library/R-4.0/x86_64-pc-linux-gnu\"                       \n",
       "[2] \"/home/samkyy/R/x86_64-pc-linux-gnu-library/4.0\"                                        \n",
       "[3] \"/cvmfs/soft.computecanada.ca/easybuild/software/2020/avx2/Core/r/4.0.2/lib64/R/library\""
      ]
     },
     "metadata": {},
     "output_type": "display_data"
    }
   ],
   "source": [
    ".libPaths(c(\"/scratch/samkyy/gete-gbm/renv/library/R-4.0/x86_64-pc-linux-gnu\",\"/tmp/RtmpJsRC8Z/renv-system-library\", .libPaths()))\n",
    ".libPaths()"
   ]
  },
  {
   "cell_type": "code",
   "execution_count": 2,
   "id": "capable-diary",
   "metadata": {
    "hidden": true
   },
   "outputs": [
    {
     "data": {
      "text/html": [
       "'/scratch/samkyy/gete-gbm/results'"
      ],
      "text/latex": [
       "'/scratch/samkyy/gete-gbm/results'"
      ],
      "text/markdown": [
       "'/scratch/samkyy/gete-gbm/results'"
      ],
      "text/plain": [
       "[1] \"/scratch/samkyy/gete-gbm/results\""
      ]
     },
     "metadata": {},
     "output_type": "display_data"
    }
   ],
   "source": [
    "resultsPath <- \"~/scratch/gete-gbm/results\"\n",
    "getwd()"
   ]
  },
  {
   "cell_type": "code",
   "execution_count": 3,
   "id": "endangered-alliance",
   "metadata": {
    "hidden": true
   },
   "outputs": [
    {
     "name": "stderr",
     "output_type": "stream",
     "text": [
      "Attaching SeuratObject\n",
      "\n",
      "Warning message in system(\"timedatectl\", intern = TRUE):\n",
      "“running command 'timedatectl' had status 1”\n",
      "Registered S3 method overwritten by 'cli':\n",
      "  method     from         \n",
      "  print.boxx spatstat.geom\n",
      "\n",
      "── \u001b[1mAttaching packages\u001b[22m ─────────────────────────────────────── tidyverse 1.3.0 ──\n",
      "\n",
      "\u001b[32m✔\u001b[39m \u001b[34mtibble \u001b[39m 3.1.3     \u001b[32m✔\u001b[39m \u001b[34mdplyr  \u001b[39m 1.0.7\n",
      "\u001b[32m✔\u001b[39m \u001b[34mtidyr  \u001b[39m 1.1.3     \u001b[32m✔\u001b[39m \u001b[34mstringr\u001b[39m 1.4.0\n",
      "\u001b[32m✔\u001b[39m \u001b[34mreadr  \u001b[39m 1.4.0     \u001b[32m✔\u001b[39m \u001b[34mforcats\u001b[39m 0.5.1\n",
      "\u001b[32m✔\u001b[39m \u001b[34mpurrr  \u001b[39m 0.3.4     \n",
      "\n",
      "── \u001b[1mConflicts\u001b[22m ────────────────────────────────────────── tidyverse_conflicts() ──\n",
      "\u001b[31m✖\u001b[39m \u001b[34mtidyr\u001b[39m::\u001b[32mexpand()\u001b[39m masks \u001b[34mMatrix\u001b[39m::expand()\n",
      "\u001b[31m✖\u001b[39m \u001b[34mdplyr\u001b[39m::\u001b[32mfilter()\u001b[39m masks \u001b[34mstats\u001b[39m::filter()\n",
      "\u001b[31m✖\u001b[39m \u001b[34mdplyr\u001b[39m::\u001b[32mlag()\u001b[39m    masks \u001b[34mstats\u001b[39m::lag()\n",
      "\u001b[31m✖\u001b[39m \u001b[34mtidyr\u001b[39m::\u001b[32mpack()\u001b[39m   masks \u001b[34mMatrix\u001b[39m::pack()\n",
      "\u001b[31m✖\u001b[39m \u001b[34mreadr\u001b[39m::\u001b[32mspec()\u001b[39m   masks \u001b[34mgenefilter\u001b[39m::spec()\n",
      "\u001b[31m✖\u001b[39m \u001b[34mtidyr\u001b[39m::\u001b[32munpack()\u001b[39m masks \u001b[34mMatrix\u001b[39m::unpack()\n",
      "\n",
      "\n",
      "Attaching package: ‘RCurl’\n",
      "\n",
      "\n",
      "The following object is masked from ‘package:tidyr’:\n",
      "\n",
      "    complete\n",
      "\n",
      "\n",
      "\n",
      "Attaching package: ‘scales’\n",
      "\n",
      "\n",
      "The following object is masked from ‘package:purrr’:\n",
      "\n",
      "    discard\n",
      "\n",
      "\n",
      "The following object is masked from ‘package:readr’:\n",
      "\n",
      "    col_factor\n",
      "\n",
      "\n",
      "Loading required package: BiocGenerics\n",
      "\n",
      "Loading required package: parallel\n",
      "\n",
      "\n",
      "Attaching package: ‘BiocGenerics’\n",
      "\n",
      "\n",
      "The following objects are masked from ‘package:parallel’:\n",
      "\n",
      "    clusterApply, clusterApplyLB, clusterCall, clusterEvalQ,\n",
      "    clusterExport, clusterMap, parApply, parCapply, parLapply,\n",
      "    parLapplyLB, parRapply, parSapply, parSapplyLB\n",
      "\n",
      "\n",
      "The following objects are masked from ‘package:dplyr’:\n",
      "\n",
      "    combine, intersect, setdiff, union\n",
      "\n",
      "\n",
      "The following objects are masked from ‘package:stats’:\n",
      "\n",
      "    IQR, mad, sd, var, xtabs\n",
      "\n",
      "\n",
      "The following objects are masked from ‘package:base’:\n",
      "\n",
      "    anyDuplicated, append, as.data.frame, basename, cbind, colnames,\n",
      "    dirname, do.call, duplicated, eval, evalq, Filter, Find, get, grep,\n",
      "    grepl, intersect, is.unsorted, lapply, Map, mapply, match, mget,\n",
      "    order, paste, pmax, pmax.int, pmin, pmin.int, Position, rank,\n",
      "    rbind, Reduce, rownames, sapply, setdiff, sort, table, tapply,\n",
      "    union, unique, unsplit, which.max, which.min\n",
      "\n",
      "\n",
      "Loading required package: BiocFileCache\n",
      "\n",
      "Loading required package: dbplyr\n",
      "\n",
      "\n",
      "Attaching package: ‘dbplyr’\n",
      "\n",
      "\n",
      "The following objects are masked from ‘package:dplyr’:\n",
      "\n",
      "    ident, sql\n",
      "\n",
      "\n",
      "Bioconductor version '3.12' is out-of-date; the current release version '3.13'\n",
      "  is available with R version '4.1'; see https://bioconductor.org/install\n",
      "\n",
      "Loading required package: GenomicRanges\n",
      "\n",
      "Loading required package: stats4\n",
      "\n",
      "Loading required package: S4Vectors\n",
      "\n",
      "\n",
      "Attaching package: ‘S4Vectors’\n",
      "\n",
      "\n",
      "The following objects are masked from ‘package:dplyr’:\n",
      "\n",
      "    first, rename\n",
      "\n",
      "\n",
      "The following object is masked from ‘package:tidyr’:\n",
      "\n",
      "    expand\n",
      "\n",
      "\n",
      "The following object is masked from ‘package:Matrix’:\n",
      "\n",
      "    expand\n",
      "\n",
      "\n",
      "The following object is masked from ‘package:base’:\n",
      "\n",
      "    expand.grid\n",
      "\n",
      "\n",
      "Loading required package: IRanges\n",
      "\n",
      "\n",
      "Attaching package: ‘IRanges’\n",
      "\n",
      "\n",
      "The following objects are masked from ‘package:dplyr’:\n",
      "\n",
      "    collapse, desc, slice\n",
      "\n",
      "\n",
      "The following object is masked from ‘package:purrr’:\n",
      "\n",
      "    reduce\n",
      "\n",
      "\n",
      "Loading required package: GenomeInfoDb\n",
      "\n",
      "Loading required package: GenomicFeatures\n",
      "\n",
      "Loading required package: AnnotationDbi\n",
      "\n",
      "Loading required package: Biobase\n",
      "\n",
      "Welcome to Bioconductor\n",
      "\n",
      "    Vignettes contain introductory material; view with\n",
      "    'browseVignettes()'. To cite Bioconductor, see\n",
      "    'citation(\"Biobase\")', and for packages 'citation(\"pkgname\")'.\n",
      "\n",
      "\n",
      "\n",
      "Attaching package: ‘Biobase’\n",
      "\n",
      "\n",
      "The following object is masked from ‘package:AnnotationHub’:\n",
      "\n",
      "    cache\n",
      "\n",
      "\n",
      "\n",
      "Attaching package: ‘AnnotationDbi’\n",
      "\n",
      "\n",
      "The following object is masked from ‘package:dplyr’:\n",
      "\n",
      "    select\n",
      "\n",
      "\n",
      "Loading required package: AnnotationFilter\n",
      "\n",
      "\n",
      "Attaching package: 'ensembldb'\n",
      "\n",
      "\n",
      "The following object is masked from 'package:dplyr':\n",
      "\n",
      "    filter\n",
      "\n",
      "\n",
      "The following object is masked from 'package:stats':\n",
      "\n",
      "    filter\n",
      "\n",
      "\n",
      "\n",
      "Attaching package: 'gridExtra'\n",
      "\n",
      "\n",
      "The following object is masked from 'package:Biobase':\n",
      "\n",
      "    combine\n",
      "\n",
      "\n",
      "The following object is masked from 'package:BiocGenerics':\n",
      "\n",
      "    combine\n",
      "\n",
      "\n",
      "The following object is masked from 'package:dplyr':\n",
      "\n",
      "    combine\n",
      "\n",
      "\n"
     ]
    }
   ],
   "source": [
    "library(Seurat)\n",
    "library(Matrix)\n",
    "library(ggplot2)\n",
    "library(cowplot)\n",
    "library(genefilter)\n",
    "library(tidyverse)\n",
    "library(RCurl)\n",
    "library(scales)\n",
    "# library(SingleCellExperiment)\n",
    "library(AnnotationHub)\n",
    "library(ensembldb)\n",
    "# Packages for figure layout formatting\n",
    "library(grid)\n",
    "library(gridExtra)"
   ]
  },
  {
   "cell_type": "code",
   "execution_count": 4,
   "id": "closed-theory",
   "metadata": {
    "hidden": true
   },
   "outputs": [
    {
     "name": "stderr",
     "output_type": "stream",
     "text": [
      "Loading required package: Category\n",
      "\n",
      "Loading required package: graph\n",
      "\n",
      "\n",
      "Attaching package: 'graph'\n",
      "\n",
      "\n",
      "The following object is masked from 'package:stringr':\n",
      "\n",
      "    boundary\n",
      "\n",
      "\n",
      "\n",
      "\n",
      "\n",
      "Attaching package: 'GOstats'\n",
      "\n",
      "\n",
      "The following object is masked from 'package:AnnotationDbi':\n",
      "\n",
      "    makeGOGraph\n",
      "\n",
      "\n",
      "\n",
      "\n"
     ]
    }
   ],
   "source": [
    "# Packages for Gene Ontology\n",
    "library(GOstats)\n",
    "library(org.Hs.eg.db)"
   ]
  },
  {
   "cell_type": "code",
   "execution_count": 5,
   "id": "grateful-senator",
   "metadata": {
    "hidden": true
   },
   "outputs": [],
   "source": [
    "source(\"~/scratch/gete-gbm/bin/util.R\")\n",
    "source(\"~/scratch/gete-gbm/bin/util_go.R\")\n",
    "source(\"~/scratch/gete-gbm/bin/util_seurat.R\")\n",
    "source(\"~/scratch/gete-gbm/bin/util_viz.R\")"
   ]
  },
  {
   "cell_type": "code",
   "execution_count": null,
   "id": "dense-characteristic",
   "metadata": {
    "hidden": true
   },
   "outputs": [],
   "source": []
  },
  {
   "cell_type": "markdown",
   "id": "incomplete-accountability",
   "metadata": {},
   "source": [
    "## Load Datasets"
   ]
  },
  {
   "cell_type": "code",
   "execution_count": null,
   "id": "wired-cathedral",
   "metadata": {},
   "outputs": [],
   "source": [
    "### load filtered neuroblastoma datasets\n",
    "load(\"/home/samkyy/scratch/gete-gbm/results/2021-06-11/filt_ge_gbmsc.RData\")\n",
    "load(\"/home/samkyy/scratch/gete-gbm/results/2021-06-11/filt_gte_gbmsc.RData\")\n",
    "\n",
    "### load filtered and integrated GBM datasets\n",
    "load(\"/home/samkyy/scratch/gete-gbm/data/2021-04-01_integrate/filt_gte_brain.intergrated.RData\")\n",
    "load(\"/home/samkyy/scratch/gete-gbm/data/2021-04-01_integrate/filt_GE_select.intergrated.RData\")"
   ]
  },
  {
   "cell_type": "code",
   "execution_count": null,
   "id": "fancy-pierce",
   "metadata": {},
   "outputs": [],
   "source": [
    "### Rename\n",
    "filt_GE_select.intergrated@meta.data <- filt_GE_select.intergrated@meta.data %>%\n",
    "        dplyr::rename(orig.ident = seq_folder,\n",
    "                     GBM_integrated_snn_res.0.8 = integrated_snn_res.0.8,\n",
    "                     GBM_seurat_clusters = seurat_clusters)\n",
    "filt_gte_brain.intergrated@meta.data <- filt_gte_brain.intergrated@meta.data %>%\n",
    "        dplyr::rename(orig.ident = seq_folder,\n",
    "                     GBM_integrated_snn_res.0.8 = integrated_snn_res.0.8,\n",
    "                     GBM_seurat_clusters = seurat_clusters)\n",
    "\n",
    "colnames(filt_GE_select.intergrated@meta.data)\n",
    "colnames(filt_gte_brain.intergrated@meta.data)"
   ]
  },
  {
   "cell_type": "code",
   "execution_count": null,
   "id": "cooked-wound",
   "metadata": {},
   "outputs": [],
   "source": [
    "#### Split the dataset into a list of seurat objects by their sample of origin\n",
    "filt_gte_gbmsc.list <- SplitObject(object=filt_gte_gbmsc, split.by=\"orig.ident\")\n",
    "filt_ge_gbmsc.list <- SplitObject(object=filt_ge_gbmsc, split.by=\"orig.ident\")"
   ]
  },
  {
   "cell_type": "code",
   "execution_count": null,
   "id": "centered-somewhere",
   "metadata": {},
   "outputs": [],
   "source": []
  },
  {
   "cell_type": "code",
   "execution_count": null,
   "id": "arbitrary-translation",
   "metadata": {},
   "outputs": [],
   "source": []
  },
  {
   "cell_type": "code",
   "execution_count": null,
   "id": "turned-treat",
   "metadata": {},
   "outputs": [],
   "source": []
  },
  {
   "cell_type": "code",
   "execution_count": null,
   "id": "scheduled-monaco",
   "metadata": {},
   "outputs": [],
   "source": []
  },
  {
   "cell_type": "code",
   "execution_count": null,
   "id": "elegant-recording",
   "metadata": {},
   "outputs": [],
   "source": []
  },
  {
   "cell_type": "code",
   "execution_count": null,
   "id": "threatened-administrator",
   "metadata": {},
   "outputs": [],
   "source": []
  },
  {
   "cell_type": "code",
   "execution_count": null,
   "id": "vocational-pavilion",
   "metadata": {},
   "outputs": [],
   "source": []
  },
  {
   "cell_type": "code",
   "execution_count": null,
   "id": "wooden-pitch",
   "metadata": {},
   "outputs": [],
   "source": []
  },
  {
   "cell_type": "code",
   "execution_count": null,
   "id": "described-pioneer",
   "metadata": {},
   "outputs": [],
   "source": []
  },
  {
   "cell_type": "code",
   "execution_count": null,
   "id": "large-protocol",
   "metadata": {},
   "outputs": [],
   "source": []
  },
  {
   "cell_type": "markdown",
   "id": "coral-protest",
   "metadata": {
    "heading_collapsed": true
   },
   "source": [
    "## End of Notebook"
   ]
  },
  {
   "cell_type": "code",
   "execution_count": 1,
   "id": "initial-charity",
   "metadata": {
    "hidden": true
   },
   "outputs": [
    {
     "data": {
      "text/plain": [
       "R version 4.0.2 (2020-06-22)\n",
       "Platform: x86_64-pc-linux-gnu (64-bit)\n",
       "Running under: CentOS Linux 7 (Core)\n",
       "\n",
       "Matrix products: default\n",
       "BLAS/LAPACK: /cvmfs/soft.computecanada.ca/easybuild/software/2020/Core/imkl/2020.1.217/compilers_and_libraries_2020.1.217/linux/mkl/lib/intel64_lin/libmkl_gf_lp64.so\n",
       "\n",
       "locale:\n",
       " [1] LC_CTYPE=en_CA.UTF-8       LC_NUMERIC=C              \n",
       " [3] LC_TIME=en_CA.UTF-8        LC_COLLATE=en_CA.UTF-8    \n",
       " [5] LC_MONETARY=en_CA.UTF-8    LC_MESSAGES=en_CA.UTF-8   \n",
       " [7] LC_PAPER=en_CA.UTF-8       LC_NAME=C                 \n",
       " [9] LC_ADDRESS=C               LC_TELEPHONE=C            \n",
       "[11] LC_MEASUREMENT=en_CA.UTF-8 LC_IDENTIFICATION=C       \n",
       "\n",
       "attached base packages:\n",
       "[1] stats     graphics  grDevices utils     datasets  methods   base     \n",
       "\n",
       "loaded via a namespace (and not attached):\n",
       " [1] fansi_0.4.2          digest_0.6.27        utf8_1.2.1          \n",
       " [4] crayon_1.4.1         IRdisplay_1.0.0.9000 repr_1.1.3.9000     \n",
       " [7] lifecycle_1.0.0      jsonlite_1.7.2       evaluate_0.14       \n",
       "[10] pillar_1.6.1         rlang_0.4.10         uuid_0.1-4          \n",
       "[13] vctrs_0.3.8          ellipsis_0.3.2       IRkernel_1.1.1.9000 \n",
       "[16] tools_4.0.2          compiler_4.0.2       base64enc_0.1-3     \n",
       "[19] pbdZMQ_0.3-5         htmltools_0.5.1.1   "
      ]
     },
     "metadata": {},
     "output_type": "display_data"
    }
   ],
   "source": [
    "sessionInfo()"
   ]
  }
 ],
 "metadata": {
  "kernelspec": {
   "display_name": "R",
   "language": "R",
   "name": "ir"
  },
  "language_info": {
   "codemirror_mode": "r",
   "file_extension": ".r",
   "mimetype": "text/x-r-source",
   "name": "R",
   "pygments_lexer": "r",
   "version": "4.0.2"
  },
  "toc": {
   "base_numbering": 1,
   "nav_menu": {},
   "number_sections": true,
   "sideBar": true,
   "skip_h1_title": true,
   "title_cell": "Table of Contents",
   "title_sidebar": "Contents",
   "toc_cell": false,
   "toc_position": {
    "height": "calc(100% - 180px)",
    "left": "10px",
    "top": "150px",
    "width": "221px"
   },
   "toc_section_display": true,
   "toc_window_display": true
  }
 },
 "nbformat": 4,
 "nbformat_minor": 5
}
