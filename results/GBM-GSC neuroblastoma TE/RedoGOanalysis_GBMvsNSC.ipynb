{
 "cells": [
  {
   "cell_type": "code",
   "execution_count": 1,
   "id": "virgin-mounting",
   "metadata": {},
   "outputs": [
    {
     "data": {
      "text/html": [
       "<style>\n",
       ".list-inline {list-style: none; margin:0; padding: 0}\n",
       ".list-inline>li {display: inline-block}\n",
       ".list-inline>li:not(:last-child)::after {content: \"\\00b7\"; padding: 0 .5ex}\n",
       "</style>\n",
       "<ol class=list-inline><li>'/home/samkyy/R/x86_64-pc-linux-gnu-library/tcga-gbm-R4/renv/library/R-4.0/x86_64-pc-linux-gnu'</li><li>'/home/samkyy/R/x86_64-pc-linux-gnu-library/4.0'</li><li>'/cvmfs/soft.computecanada.ca/easybuild/software/2020/avx2/Core/r/4.0.2/lib64/R/library'</li></ol>\n"
      ],
      "text/latex": [
       "\\begin{enumerate*}\n",
       "\\item '/home/samkyy/R/x86\\_64-pc-linux-gnu-library/tcga-gbm-R4/renv/library/R-4.0/x86\\_64-pc-linux-gnu'\n",
       "\\item '/home/samkyy/R/x86\\_64-pc-linux-gnu-library/4.0'\n",
       "\\item '/cvmfs/soft.computecanada.ca/easybuild/software/2020/avx2/Core/r/4.0.2/lib64/R/library'\n",
       "\\end{enumerate*}\n"
      ],
      "text/markdown": [
       "1. '/home/samkyy/R/x86_64-pc-linux-gnu-library/tcga-gbm-R4/renv/library/R-4.0/x86_64-pc-linux-gnu'\n",
       "2. '/home/samkyy/R/x86_64-pc-linux-gnu-library/4.0'\n",
       "3. '/cvmfs/soft.computecanada.ca/easybuild/software/2020/avx2/Core/r/4.0.2/lib64/R/library'\n",
       "\n",
       "\n"
      ],
      "text/plain": [
       "[1] \"/home/samkyy/R/x86_64-pc-linux-gnu-library/tcga-gbm-R4/renv/library/R-4.0/x86_64-pc-linux-gnu\"\n",
       "[2] \"/home/samkyy/R/x86_64-pc-linux-gnu-library/4.0\"                                               \n",
       "[3] \"/cvmfs/soft.computecanada.ca/easybuild/software/2020/avx2/Core/r/4.0.2/lib64/R/library\"       "
      ]
     },
     "metadata": {},
     "output_type": "display_data"
    }
   ],
   "source": [
    ".libPaths(c(\"/scratch/samkyy/gete-gbm/renv/library/R-4.0/x86_64-pc-linux-gnu\",\"/tmp/RtmpJsRC8Z/renv-system-library\", .libPaths()))\n",
    ".libPaths()"
   ]
  },
  {
   "cell_type": "code",
   "execution_count": 2,
   "id": "crucial-monitoring",
   "metadata": {},
   "outputs": [
    {
     "data": {
      "text/html": [
       "'/scratch/samkyy/gete-gbm/results/GBMGSCTE'"
      ],
      "text/latex": [
       "'/scratch/samkyy/gete-gbm/results/GBMGSCTE'"
      ],
      "text/markdown": [
       "'/scratch/samkyy/gete-gbm/results/GBMGSCTE'"
      ],
      "text/plain": [
       "[1] \"/scratch/samkyy/gete-gbm/results/GBMGSCTE\""
      ]
     },
     "metadata": {},
     "output_type": "display_data"
    }
   ],
   "source": [
    "resultsPath <- \"~/scratch/gete-gbm/results\"\n",
    "getwd()"
   ]
  },
  {
   "cell_type": "code",
   "execution_count": 3,
   "id": "funded-reply",
   "metadata": {
    "scrolled": true
   },
   "outputs": [
    {
     "name": "stderr",
     "output_type": "stream",
     "text": [
      "\n",
      "Attaching package: ‘dplyr’\n",
      "\n",
      "\n",
      "The following objects are masked from ‘package:stats’:\n",
      "\n",
      "    filter, lag\n",
      "\n",
      "\n",
      "The following objects are masked from ‘package:base’:\n",
      "\n",
      "    intersect, setdiff, setequal, union\n",
      "\n",
      "\n",
      "Loading required package: Biobase\n",
      "\n",
      "Loading required package: BiocGenerics\n",
      "\n",
      "Loading required package: parallel\n",
      "\n",
      "\n",
      "Attaching package: ‘BiocGenerics’\n",
      "\n",
      "\n",
      "The following objects are masked from ‘package:parallel’:\n",
      "\n",
      "    clusterApply, clusterApplyLB, clusterCall, clusterEvalQ,\n",
      "    clusterExport, clusterMap, parApply, parCapply, parLapply,\n",
      "    parLapplyLB, parRapply, parSapply, parSapplyLB\n",
      "\n",
      "\n",
      "The following objects are masked from ‘package:dplyr’:\n",
      "\n",
      "    combine, intersect, setdiff, union\n",
      "\n",
      "\n",
      "The following objects are masked from ‘package:stats’:\n",
      "\n",
      "    IQR, mad, sd, var, xtabs\n",
      "\n",
      "\n",
      "The following objects are masked from ‘package:base’:\n",
      "\n",
      "    anyDuplicated, append, as.data.frame, basename, cbind, colnames,\n",
      "    dirname, do.call, duplicated, eval, evalq, Filter, Find, get, grep,\n",
      "    grepl, intersect, is.unsorted, lapply, Map, mapply, match, mget,\n",
      "    order, paste, pmax, pmax.int, pmin, pmin.int, Position, rank,\n",
      "    rbind, Reduce, rownames, sapply, setdiff, sort, table, tapply,\n",
      "    union, unique, unsplit, which.max, which.min\n",
      "\n",
      "\n",
      "Welcome to Bioconductor\n",
      "\n",
      "    Vignettes contain introductory material; view with\n",
      "    'browseVignettes()'. To cite Bioconductor, see\n",
      "    'citation(\"Biobase\")', and for packages 'citation(\"pkgname\")'.\n",
      "\n",
      "\n",
      "Loading required package: Category\n",
      "\n",
      "Loading required package: stats4\n",
      "\n",
      "Loading required package: AnnotationDbi\n",
      "\n",
      "Loading required package: IRanges\n",
      "\n",
      "Loading required package: S4Vectors\n",
      "\n",
      "\n",
      "Attaching package: ‘S4Vectors’\n",
      "\n",
      "\n",
      "The following objects are masked from ‘package:dplyr’:\n",
      "\n",
      "    first, rename\n",
      "\n",
      "\n",
      "The following object is masked from ‘package:base’:\n",
      "\n",
      "    expand.grid\n",
      "\n",
      "\n",
      "\n",
      "Attaching package: ‘IRanges’\n",
      "\n",
      "\n",
      "The following objects are masked from ‘package:dplyr’:\n",
      "\n",
      "    collapse, desc, slice\n",
      "\n",
      "\n",
      "\n",
      "Attaching package: ‘AnnotationDbi’\n",
      "\n",
      "\n",
      "The following object is masked from ‘package:dplyr’:\n",
      "\n",
      "    select\n",
      "\n",
      "\n",
      "Loading required package: Matrix\n",
      "\n",
      "\n",
      "Attaching package: ‘Matrix’\n",
      "\n",
      "\n",
      "The following object is masked from ‘package:S4Vectors’:\n",
      "\n",
      "    expand\n",
      "\n",
      "\n",
      "Loading required package: graph\n",
      "\n",
      "\n",
      "\n",
      "\n",
      "Attaching package: ‘GOstats’\n",
      "\n",
      "\n",
      "The following object is masked from ‘package:AnnotationDbi’:\n",
      "\n",
      "    makeGOGraph\n",
      "\n",
      "\n",
      "\n",
      "\n",
      "Warning message in file(filename, \"r\", encoding = encoding):\n",
      "“'raw = FALSE' but '~/scratch' is not a regular file”\n",
      "Warning message in file(filename, \"r\", encoding = encoding):\n",
      "“cannot open file '/home/samkyy/scratch': it is a directory”\n"
     ]
    },
    {
     "ename": "ERROR",
     "evalue": "Error in file(filename, \"r\", encoding = encoding): cannot open the connection\n",
     "output_type": "error",
     "traceback": [
      "Error in file(filename, \"r\", encoding = encoding): cannot open the connection\nTraceback:\n",
      "1. source(\"~/scratch\")",
      "2. file(filename, \"r\", encoding = encoding)"
     ]
    }
   ],
   "source": [
    "library(ggplot2)\n",
    "library(dplyr)\n",
    "source(\"~/scratch/gete-gbm/bin/util.R\")\n",
    "source(\"~/scratch/gete-gbm/bin/util_go.R\")"
   ]
  },
  {
   "cell_type": "markdown",
   "id": "international-report",
   "metadata": {
    "heading_collapsed": true
   },
   "source": [
    "## Load Data"
   ]
  },
  {
   "cell_type": "code",
   "execution_count": null,
   "id": "laden-relative",
   "metadata": {
    "hidden": true
   },
   "outputs": [],
   "source": [
    "# c7.GBM <- readRDS(\"~/projects/def-ytanaka/samkyy/gete-gbm/results/2022-01-24_gbmsc_GO/gbmsc_c7_markersGO_GBM.rds\")\n",
    "# c7.NSC <- readRDS(\"~/projects/def-ytanaka/samkyy/gete-gbm/results/2022-01-24_gbmsc_GO/gbmsc_c7_markersGO_NSC.rds\")"
   ]
  },
  {
   "cell_type": "code",
   "execution_count": 5,
   "id": "expressed-chart",
   "metadata": {
    "hidden": true
   },
   "outputs": [],
   "source": [
    "c7.GBM <- readRDS(\"/home/samkyy/projects/def-ytanaka/samkyy/gete-gbm/results/2021-10-14_gbmsc_DEG/cluster7.GBMmarkers.rds\")\n",
    "c7.GBM <- c7.GBM %>% tibble::rownames_to_column(var = \"gene\")\n",
    "# c7.NSC <- readRDS(\"/home/samkyy/projects/def-ytanaka/samkyy/gete-gbm/results/2021-10-14_gbmsc_DEG/cluster7.NCSmarkers.rds\")\n",
    "c7 <- readRDS(\"/home/samkyy/projects/def-ytanaka/samkyy/gete-gbm/results/2021-10-14_gbmsc_DEG/cluster7.markers.rds\")\n",
    "c7 <- c7 %>% tibble::rownames_to_column(var = \"gene\")"
   ]
  },
  {
   "cell_type": "code",
   "execution_count": 6,
   "id": "covered-seeker",
   "metadata": {
    "hidden": true,
    "scrolled": true
   },
   "outputs": [
    {
     "data": {
      "text/html": [
       "<table class=\"dataframe\">\n",
       "<caption>A data.frame: 6 × 9</caption>\n",
       "<thead>\n",
       "\t<tr><th></th><th scope=col>gene</th><th scope=col>p_val</th><th scope=col>avg_log2FC</th><th scope=col>pct.1</th><th scope=col>pct.2</th><th scope=col>p_val_adj</th><th scope=col>nlog10p.adj</th><th scope=col>p_adj_FDR</th><th scope=col>nlog10p.FDR</th></tr>\n",
       "\t<tr><th></th><th scope=col>&lt;chr&gt;</th><th scope=col>&lt;dbl&gt;</th><th scope=col>&lt;dbl&gt;</th><th scope=col>&lt;dbl&gt;</th><th scope=col>&lt;dbl&gt;</th><th scope=col>&lt;dbl&gt;</th><th scope=col>&lt;dbl&gt;</th><th scope=col>&lt;dbl&gt;</th><th scope=col>&lt;dbl&gt;</th></tr>\n",
       "</thead>\n",
       "<tbody>\n",
       "\t<tr><th scope=row>1</th><td>IGFBP2</td><td>1.091533e-248</td><td>-4.221090</td><td>0.154</td><td>0.860</td><td>3.547591e-244</td><td>243.4501</td><td>1.507407e-245</td><td>244.8218</td></tr>\n",
       "\t<tr><th scope=row>2</th><td>NOVA1 </td><td>2.314177e-191</td><td>-2.086224</td><td>0.479</td><td>0.973</td><td>7.521307e-187</td><td>186.1237</td><td>1.597939e-188</td><td>187.7964</td></tr>\n",
       "\t<tr><th scope=row>3</th><td>CKB   </td><td>5.467835e-156</td><td>-2.267760</td><td>0.236</td><td>0.791</td><td>1.777101e-151</td><td>150.7503</td><td>2.517027e-153</td><td>152.5991</td></tr>\n",
       "\t<tr><th scope=row>4</th><td>TSFM  </td><td>4.144443e-151</td><td>-2.544499</td><td>0.032</td><td>0.506</td><td>1.346986e-146</td><td>145.8706</td><td>1.430869e-148</td><td>147.8444</td></tr>\n",
       "\t<tr><th scope=row>5</th><td>FLAM-C</td><td>2.479654e-150</td><td> 1.606307</td><td>0.921</td><td>0.717</td><td>8.059123e-146</td><td>145.0937</td><td>6.848804e-148</td><td>147.1644</td></tr>\n",
       "\t<tr><th scope=row>6</th><td>MARCH9</td><td>1.204882e-147</td><td>-2.975844</td><td>0.053</td><td>0.529</td><td>3.915987e-143</td><td>142.4072</td><td>2.773237e-145</td><td>144.5570</td></tr>\n",
       "</tbody>\n",
       "</table>\n"
      ],
      "text/latex": [
       "A data.frame: 6 × 9\n",
       "\\begin{tabular}{r|lllllllll}\n",
       "  & gene & p\\_val & avg\\_log2FC & pct.1 & pct.2 & p\\_val\\_adj & nlog10p.adj & p\\_adj\\_FDR & nlog10p.FDR\\\\\n",
       "  & <chr> & <dbl> & <dbl> & <dbl> & <dbl> & <dbl> & <dbl> & <dbl> & <dbl>\\\\\n",
       "\\hline\n",
       "\t1 & IGFBP2 & 1.091533e-248 & -4.221090 & 0.154 & 0.860 & 3.547591e-244 & 243.4501 & 1.507407e-245 & 244.8218\\\\\n",
       "\t2 & NOVA1  & 2.314177e-191 & -2.086224 & 0.479 & 0.973 & 7.521307e-187 & 186.1237 & 1.597939e-188 & 187.7964\\\\\n",
       "\t3 & CKB    & 5.467835e-156 & -2.267760 & 0.236 & 0.791 & 1.777101e-151 & 150.7503 & 2.517027e-153 & 152.5991\\\\\n",
       "\t4 & TSFM   & 4.144443e-151 & -2.544499 & 0.032 & 0.506 & 1.346986e-146 & 145.8706 & 1.430869e-148 & 147.8444\\\\\n",
       "\t5 & FLAM-C & 2.479654e-150 &  1.606307 & 0.921 & 0.717 & 8.059123e-146 & 145.0937 & 6.848804e-148 & 147.1644\\\\\n",
       "\t6 & MARCH9 & 1.204882e-147 & -2.975844 & 0.053 & 0.529 & 3.915987e-143 & 142.4072 & 2.773237e-145 & 144.5570\\\\\n",
       "\\end{tabular}\n"
      ],
      "text/markdown": [
       "\n",
       "A data.frame: 6 × 9\n",
       "\n",
       "| <!--/--> | gene &lt;chr&gt; | p_val &lt;dbl&gt; | avg_log2FC &lt;dbl&gt; | pct.1 &lt;dbl&gt; | pct.2 &lt;dbl&gt; | p_val_adj &lt;dbl&gt; | nlog10p.adj &lt;dbl&gt; | p_adj_FDR &lt;dbl&gt; | nlog10p.FDR &lt;dbl&gt; |\n",
       "|---|---|---|---|---|---|---|---|---|---|\n",
       "| 1 | IGFBP2 | 1.091533e-248 | -4.221090 | 0.154 | 0.860 | 3.547591e-244 | 243.4501 | 1.507407e-245 | 244.8218 |\n",
       "| 2 | NOVA1  | 2.314177e-191 | -2.086224 | 0.479 | 0.973 | 7.521307e-187 | 186.1237 | 1.597939e-188 | 187.7964 |\n",
       "| 3 | CKB    | 5.467835e-156 | -2.267760 | 0.236 | 0.791 | 1.777101e-151 | 150.7503 | 2.517027e-153 | 152.5991 |\n",
       "| 4 | TSFM   | 4.144443e-151 | -2.544499 | 0.032 | 0.506 | 1.346986e-146 | 145.8706 | 1.430869e-148 | 147.8444 |\n",
       "| 5 | FLAM-C | 2.479654e-150 |  1.606307 | 0.921 | 0.717 | 8.059123e-146 | 145.0937 | 6.848804e-148 | 147.1644 |\n",
       "| 6 | MARCH9 | 1.204882e-147 | -2.975844 | 0.053 | 0.529 | 3.915987e-143 | 142.4072 | 2.773237e-145 | 144.5570 |\n",
       "\n"
      ],
      "text/plain": [
       "  gene   p_val         avg_log2FC pct.1 pct.2 p_val_adj     nlog10p.adj\n",
       "1 IGFBP2 1.091533e-248 -4.221090  0.154 0.860 3.547591e-244 243.4501   \n",
       "2 NOVA1  2.314177e-191 -2.086224  0.479 0.973 7.521307e-187 186.1237   \n",
       "3 CKB    5.467835e-156 -2.267760  0.236 0.791 1.777101e-151 150.7503   \n",
       "4 TSFM   4.144443e-151 -2.544499  0.032 0.506 1.346986e-146 145.8706   \n",
       "5 FLAM-C 2.479654e-150  1.606307  0.921 0.717 8.059123e-146 145.0937   \n",
       "6 MARCH9 1.204882e-147 -2.975844  0.053 0.529 3.915987e-143 142.4072   \n",
       "  p_adj_FDR     nlog10p.FDR\n",
       "1 1.507407e-245 244.8218   \n",
       "2 1.597939e-188 187.7964   \n",
       "3 2.517027e-153 152.5991   \n",
       "4 1.430869e-148 147.8444   \n",
       "5 6.848804e-148 147.1644   \n",
       "6 2.773237e-145 144.5570   "
      ]
     },
     "metadata": {},
     "output_type": "display_data"
    },
    {
     "data": {
      "text/html": [
       "<table class=\"dataframe\">\n",
       "<caption>A data.frame: 6 × 9</caption>\n",
       "<thead>\n",
       "\t<tr><th></th><th scope=col>gene</th><th scope=col>p_val</th><th scope=col>avg_log2FC</th><th scope=col>pct.1</th><th scope=col>pct.2</th><th scope=col>p_val_adj</th><th scope=col>p_adj_FDR</th><th scope=col>nlog10p.adj</th><th scope=col>nlog10p.FDR</th></tr>\n",
       "\t<tr><th></th><th scope=col>&lt;chr&gt;</th><th scope=col>&lt;dbl&gt;</th><th scope=col>&lt;dbl&gt;</th><th scope=col>&lt;dbl&gt;</th><th scope=col>&lt;dbl&gt;</th><th scope=col>&lt;dbl&gt;</th><th scope=col>&lt;dbl&gt;</th><th scope=col>&lt;dbl&gt;</th><th scope=col>&lt;dbl&gt;</th></tr>\n",
       "</thead>\n",
       "<tbody>\n",
       "\t<tr><th scope=row>1</th><td>TMSB10</td><td>0</td><td>-1.1576966</td><td>0.836</td><td>0.973</td><td>0</td><td>0</td><td>Inf</td><td>Inf</td></tr>\n",
       "\t<tr><th scope=row>2</th><td>ACTB  </td><td>0</td><td>-1.1784577</td><td>0.845</td><td>0.971</td><td>0</td><td>0</td><td>Inf</td><td>Inf</td></tr>\n",
       "\t<tr><th scope=row>3</th><td>NDUFA4</td><td>0</td><td>-1.0795162</td><td>0.638</td><td>0.936</td><td>0</td><td>0</td><td>Inf</td><td>Inf</td></tr>\n",
       "\t<tr><th scope=row>4</th><td>LDHA  </td><td>0</td><td>-1.4326403</td><td>0.320</td><td>0.754</td><td>0</td><td>0</td><td>Inf</td><td>Inf</td></tr>\n",
       "\t<tr><th scope=row>5</th><td>FTH1  </td><td>0</td><td>-1.8633158</td><td>0.843</td><td>0.929</td><td>0</td><td>0</td><td>Inf</td><td>Inf</td></tr>\n",
       "\t<tr><th scope=row>6</th><td>CFL1  </td><td>0</td><td>-0.9017693</td><td>0.616</td><td>0.931</td><td>0</td><td>0</td><td>Inf</td><td>Inf</td></tr>\n",
       "</tbody>\n",
       "</table>\n"
      ],
      "text/latex": [
       "A data.frame: 6 × 9\n",
       "\\begin{tabular}{r|lllllllll}\n",
       "  & gene & p\\_val & avg\\_log2FC & pct.1 & pct.2 & p\\_val\\_adj & p\\_adj\\_FDR & nlog10p.adj & nlog10p.FDR\\\\\n",
       "  & <chr> & <dbl> & <dbl> & <dbl> & <dbl> & <dbl> & <dbl> & <dbl> & <dbl>\\\\\n",
       "\\hline\n",
       "\t1 & TMSB10 & 0 & -1.1576966 & 0.836 & 0.973 & 0 & 0 & Inf & Inf\\\\\n",
       "\t2 & ACTB   & 0 & -1.1784577 & 0.845 & 0.971 & 0 & 0 & Inf & Inf\\\\\n",
       "\t3 & NDUFA4 & 0 & -1.0795162 & 0.638 & 0.936 & 0 & 0 & Inf & Inf\\\\\n",
       "\t4 & LDHA   & 0 & -1.4326403 & 0.320 & 0.754 & 0 & 0 & Inf & Inf\\\\\n",
       "\t5 & FTH1   & 0 & -1.8633158 & 0.843 & 0.929 & 0 & 0 & Inf & Inf\\\\\n",
       "\t6 & CFL1   & 0 & -0.9017693 & 0.616 & 0.931 & 0 & 0 & Inf & Inf\\\\\n",
       "\\end{tabular}\n"
      ],
      "text/markdown": [
       "\n",
       "A data.frame: 6 × 9\n",
       "\n",
       "| <!--/--> | gene &lt;chr&gt; | p_val &lt;dbl&gt; | avg_log2FC &lt;dbl&gt; | pct.1 &lt;dbl&gt; | pct.2 &lt;dbl&gt; | p_val_adj &lt;dbl&gt; | p_adj_FDR &lt;dbl&gt; | nlog10p.adj &lt;dbl&gt; | nlog10p.FDR &lt;dbl&gt; |\n",
       "|---|---|---|---|---|---|---|---|---|---|\n",
       "| 1 | TMSB10 | 0 | -1.1576966 | 0.836 | 0.973 | 0 | 0 | Inf | Inf |\n",
       "| 2 | ACTB   | 0 | -1.1784577 | 0.845 | 0.971 | 0 | 0 | Inf | Inf |\n",
       "| 3 | NDUFA4 | 0 | -1.0795162 | 0.638 | 0.936 | 0 | 0 | Inf | Inf |\n",
       "| 4 | LDHA   | 0 | -1.4326403 | 0.320 | 0.754 | 0 | 0 | Inf | Inf |\n",
       "| 5 | FTH1   | 0 | -1.8633158 | 0.843 | 0.929 | 0 | 0 | Inf | Inf |\n",
       "| 6 | CFL1   | 0 | -0.9017693 | 0.616 | 0.931 | 0 | 0 | Inf | Inf |\n",
       "\n"
      ],
      "text/plain": [
       "  gene   p_val avg_log2FC pct.1 pct.2 p_val_adj p_adj_FDR nlog10p.adj\n",
       "1 TMSB10 0     -1.1576966 0.836 0.973 0         0         Inf        \n",
       "2 ACTB   0     -1.1784577 0.845 0.971 0         0         Inf        \n",
       "3 NDUFA4 0     -1.0795162 0.638 0.936 0         0         Inf        \n",
       "4 LDHA   0     -1.4326403 0.320 0.754 0         0         Inf        \n",
       "5 FTH1   0     -1.8633158 0.843 0.929 0         0         Inf        \n",
       "6 CFL1   0     -0.9017693 0.616 0.931 0         0         Inf        \n",
       "  nlog10p.FDR\n",
       "1 Inf        \n",
       "2 Inf        \n",
       "3 Inf        \n",
       "4 Inf        \n",
       "5 Inf        \n",
       "6 Inf        "
      ]
     },
     "metadata": {},
     "output_type": "display_data"
    }
   ],
   "source": [
    "head(c7.GBM)\n",
    "head(c7)"
   ]
  },
  {
   "cell_type": "markdown",
   "id": "lonely-processing",
   "metadata": {
    "heading_collapsed": true
   },
   "source": [
    "## GO"
   ]
  },
  {
   "cell_type": "code",
   "execution_count": 7,
   "id": "homeless-lucas",
   "metadata": {
    "hidden": true
   },
   "outputs": [],
   "source": [
    "# Extract upregulatded GBM markers\n",
    "c7.gbmUP <- c7.GBM %>% filter(avg_log2FC >= 0.5 & p_val_adj <= 10e-32)\n",
    "# Extract downregulated GBM markes (aka upreg. in NSC)\n",
    "c7.gbmDN <- c7.GBM %>% filter(avg_log2FC <= -0.5 & p_val_adj <= 10e-32)\n",
    "# Extract up & down regulated GBM markers\n",
    "\n",
    "c7UP <- c7 %>% filter(avg_log2FC >= 0.5 & p_val_adj <= 0.05)\n",
    "c7DN <- c7 %>% filter(avg_log2FC <= -0.5 & p_val_adj <= 0.05)"
   ]
  },
  {
   "cell_type": "code",
   "execution_count": 8,
   "id": "color-prevention",
   "metadata": {
    "hidden": true
   },
   "outputs": [],
   "source": [
    "# add cluster ID column\n",
    "c7.gbmUP$cluster <- as.integer(7)\n",
    "c7.gbmDN$cluster <- as.integer(7)\n",
    "c7UP$cluster <- as.integer(7)\n",
    "c7DN$cluster <- as.integer(7)"
   ]
  },
  {
   "cell_type": "code",
   "execution_count": 9,
   "id": "continental-maldives",
   "metadata": {
    "hidden": true,
    "scrolled": true
   },
   "outputs": [
    {
     "data": {
      "text/html": [
       "<table class=\"dataframe\">\n",
       "<caption>A data.frame: 6 × 10</caption>\n",
       "<thead>\n",
       "\t<tr><th></th><th scope=col>gene</th><th scope=col>p_val</th><th scope=col>avg_log2FC</th><th scope=col>pct.1</th><th scope=col>pct.2</th><th scope=col>p_val_adj</th><th scope=col>nlog10p.adj</th><th scope=col>p_adj_FDR</th><th scope=col>nlog10p.FDR</th><th scope=col>cluster</th></tr>\n",
       "\t<tr><th></th><th scope=col>&lt;chr&gt;</th><th scope=col>&lt;dbl&gt;</th><th scope=col>&lt;dbl&gt;</th><th scope=col>&lt;dbl&gt;</th><th scope=col>&lt;dbl&gt;</th><th scope=col>&lt;dbl&gt;</th><th scope=col>&lt;dbl&gt;</th><th scope=col>&lt;dbl&gt;</th><th scope=col>&lt;dbl&gt;</th><th scope=col>&lt;int&gt;</th></tr>\n",
       "</thead>\n",
       "<tbody>\n",
       "\t<tr><th scope=row>1</th><td>FLAM-C</td><td>2.479654e-150</td><td>1.606307</td><td>0.921</td><td>0.717</td><td>8.059123e-146</td><td>145.09371</td><td>6.848804e-148</td><td>147.16439</td><td>7</td></tr>\n",
       "\t<tr><th scope=row>2</th><td>RPS27 </td><td> 1.442337e-98</td><td>2.436382</td><td>0.871</td><td>0.631</td><td> 4.687739e-94</td><td> 93.32904</td><td> 1.244917e-96</td><td> 95.90486</td><td>7</td></tr>\n",
       "\t<tr><th scope=row>3</th><td>B2M   </td><td> 1.628701e-80</td><td>1.284923</td><td>0.866</td><td>0.675</td><td> 5.293441e-76</td><td> 75.27626</td><td> 9.371817e-79</td><td> 78.02818</td><td>7</td></tr>\n",
       "\t<tr><th scope=row>4</th><td>RPS12 </td><td> 1.539251e-79</td><td>2.109646</td><td>0.839</td><td>0.586</td><td> 5.002721e-75</td><td> 74.30079</td><td> 7.591808e-78</td><td> 77.11965</td><td>7</td></tr>\n",
       "\t<tr><th scope=row>5</th><td>RPLP1 </td><td> 7.081568e-74</td><td>1.864275</td><td>0.893</td><td>0.745</td><td> 2.301581e-69</td><td> 68.63797</td><td> 2.963529e-72</td><td> 71.52819</td><td>7</td></tr>\n",
       "\t<tr><th scope=row>6</th><td>MBP   </td><td> 1.180028e-71</td><td>1.534958</td><td>0.439</td><td>0.048</td><td> 3.835210e-67</td><td> 66.41621</td><td> 4.792998e-70</td><td> 69.31939</td><td>7</td></tr>\n",
       "</tbody>\n",
       "</table>\n"
      ],
      "text/latex": [
       "A data.frame: 6 × 10\n",
       "\\begin{tabular}{r|llllllllll}\n",
       "  & gene & p\\_val & avg\\_log2FC & pct.1 & pct.2 & p\\_val\\_adj & nlog10p.adj & p\\_adj\\_FDR & nlog10p.FDR & cluster\\\\\n",
       "  & <chr> & <dbl> & <dbl> & <dbl> & <dbl> & <dbl> & <dbl> & <dbl> & <dbl> & <int>\\\\\n",
       "\\hline\n",
       "\t1 & FLAM-C & 2.479654e-150 & 1.606307 & 0.921 & 0.717 & 8.059123e-146 & 145.09371 & 6.848804e-148 & 147.16439 & 7\\\\\n",
       "\t2 & RPS27  &  1.442337e-98 & 2.436382 & 0.871 & 0.631 &  4.687739e-94 &  93.32904 &  1.244917e-96 &  95.90486 & 7\\\\\n",
       "\t3 & B2M    &  1.628701e-80 & 1.284923 & 0.866 & 0.675 &  5.293441e-76 &  75.27626 &  9.371817e-79 &  78.02818 & 7\\\\\n",
       "\t4 & RPS12  &  1.539251e-79 & 2.109646 & 0.839 & 0.586 &  5.002721e-75 &  74.30079 &  7.591808e-78 &  77.11965 & 7\\\\\n",
       "\t5 & RPLP1  &  7.081568e-74 & 1.864275 & 0.893 & 0.745 &  2.301581e-69 &  68.63797 &  2.963529e-72 &  71.52819 & 7\\\\\n",
       "\t6 & MBP    &  1.180028e-71 & 1.534958 & 0.439 & 0.048 &  3.835210e-67 &  66.41621 &  4.792998e-70 &  69.31939 & 7\\\\\n",
       "\\end{tabular}\n"
      ],
      "text/markdown": [
       "\n",
       "A data.frame: 6 × 10\n",
       "\n",
       "| <!--/--> | gene &lt;chr&gt; | p_val &lt;dbl&gt; | avg_log2FC &lt;dbl&gt; | pct.1 &lt;dbl&gt; | pct.2 &lt;dbl&gt; | p_val_adj &lt;dbl&gt; | nlog10p.adj &lt;dbl&gt; | p_adj_FDR &lt;dbl&gt; | nlog10p.FDR &lt;dbl&gt; | cluster &lt;int&gt; |\n",
       "|---|---|---|---|---|---|---|---|---|---|---|\n",
       "| 1 | FLAM-C | 2.479654e-150 | 1.606307 | 0.921 | 0.717 | 8.059123e-146 | 145.09371 | 6.848804e-148 | 147.16439 | 7 |\n",
       "| 2 | RPS27  |  1.442337e-98 | 2.436382 | 0.871 | 0.631 |  4.687739e-94 |  93.32904 |  1.244917e-96 |  95.90486 | 7 |\n",
       "| 3 | B2M    |  1.628701e-80 | 1.284923 | 0.866 | 0.675 |  5.293441e-76 |  75.27626 |  9.371817e-79 |  78.02818 | 7 |\n",
       "| 4 | RPS12  |  1.539251e-79 | 2.109646 | 0.839 | 0.586 |  5.002721e-75 |  74.30079 |  7.591808e-78 |  77.11965 | 7 |\n",
       "| 5 | RPLP1  |  7.081568e-74 | 1.864275 | 0.893 | 0.745 |  2.301581e-69 |  68.63797 |  2.963529e-72 |  71.52819 | 7 |\n",
       "| 6 | MBP    |  1.180028e-71 | 1.534958 | 0.439 | 0.048 |  3.835210e-67 |  66.41621 |  4.792998e-70 |  69.31939 | 7 |\n",
       "\n"
      ],
      "text/plain": [
       "  gene   p_val         avg_log2FC pct.1 pct.2 p_val_adj     nlog10p.adj\n",
       "1 FLAM-C 2.479654e-150 1.606307   0.921 0.717 8.059123e-146 145.09371  \n",
       "2 RPS27   1.442337e-98 2.436382   0.871 0.631  4.687739e-94  93.32904  \n",
       "3 B2M     1.628701e-80 1.284923   0.866 0.675  5.293441e-76  75.27626  \n",
       "4 RPS12   1.539251e-79 2.109646   0.839 0.586  5.002721e-75  74.30079  \n",
       "5 RPLP1   7.081568e-74 1.864275   0.893 0.745  2.301581e-69  68.63797  \n",
       "6 MBP     1.180028e-71 1.534958   0.439 0.048  3.835210e-67  66.41621  \n",
       "  p_adj_FDR     nlog10p.FDR cluster\n",
       "1 6.848804e-148 147.16439   7      \n",
       "2  1.244917e-96  95.90486   7      \n",
       "3  9.371817e-79  78.02818   7      \n",
       "4  7.591808e-78  77.11965   7      \n",
       "5  2.963529e-72  71.52819   7      \n",
       "6  4.792998e-70  69.31939   7      "
      ]
     },
     "metadata": {},
     "output_type": "display_data"
    },
    {
     "data": {
      "text/html": [
       "<table class=\"dataframe\">\n",
       "<caption>A data.frame: 6 × 10</caption>\n",
       "<thead>\n",
       "\t<tr><th></th><th scope=col>gene</th><th scope=col>p_val</th><th scope=col>avg_log2FC</th><th scope=col>pct.1</th><th scope=col>pct.2</th><th scope=col>p_val_adj</th><th scope=col>nlog10p.adj</th><th scope=col>p_adj_FDR</th><th scope=col>nlog10p.FDR</th><th scope=col>cluster</th></tr>\n",
       "\t<tr><th></th><th scope=col>&lt;chr&gt;</th><th scope=col>&lt;dbl&gt;</th><th scope=col>&lt;dbl&gt;</th><th scope=col>&lt;dbl&gt;</th><th scope=col>&lt;dbl&gt;</th><th scope=col>&lt;dbl&gt;</th><th scope=col>&lt;dbl&gt;</th><th scope=col>&lt;dbl&gt;</th><th scope=col>&lt;dbl&gt;</th><th scope=col>&lt;int&gt;</th></tr>\n",
       "</thead>\n",
       "<tbody>\n",
       "\t<tr><th scope=row>1</th><td>IGFBP2</td><td>1.091533e-248</td><td>-4.221090</td><td>0.154</td><td>0.860</td><td>3.547591e-244</td><td>243.4501</td><td>1.507407e-245</td><td>244.8218</td><td>7</td></tr>\n",
       "\t<tr><th scope=row>2</th><td>NOVA1 </td><td>2.314177e-191</td><td>-2.086224</td><td>0.479</td><td>0.973</td><td>7.521307e-187</td><td>186.1237</td><td>1.597939e-188</td><td>187.7964</td><td>7</td></tr>\n",
       "\t<tr><th scope=row>3</th><td>CKB   </td><td>5.467835e-156</td><td>-2.267760</td><td>0.236</td><td>0.791</td><td>1.777101e-151</td><td>150.7503</td><td>2.517027e-153</td><td>152.5991</td><td>7</td></tr>\n",
       "\t<tr><th scope=row>4</th><td>TSFM  </td><td>4.144443e-151</td><td>-2.544499</td><td>0.032</td><td>0.506</td><td>1.346986e-146</td><td>145.8706</td><td>1.430869e-148</td><td>147.8444</td><td>7</td></tr>\n",
       "\t<tr><th scope=row>5</th><td>MARCH9</td><td>1.204882e-147</td><td>-2.975844</td><td>0.053</td><td>0.529</td><td>3.915987e-143</td><td>142.4072</td><td>2.773237e-145</td><td>144.5570</td><td>7</td></tr>\n",
       "\t<tr><th scope=row>6</th><td>CDK4  </td><td>1.679441e-133</td><td>-3.494194</td><td>0.129</td><td>0.596</td><td>5.458352e-129</td><td>128.2629</td><td>3.313298e-131</td><td>130.4797</td><td>7</td></tr>\n",
       "</tbody>\n",
       "</table>\n"
      ],
      "text/latex": [
       "A data.frame: 6 × 10\n",
       "\\begin{tabular}{r|llllllllll}\n",
       "  & gene & p\\_val & avg\\_log2FC & pct.1 & pct.2 & p\\_val\\_adj & nlog10p.adj & p\\_adj\\_FDR & nlog10p.FDR & cluster\\\\\n",
       "  & <chr> & <dbl> & <dbl> & <dbl> & <dbl> & <dbl> & <dbl> & <dbl> & <dbl> & <int>\\\\\n",
       "\\hline\n",
       "\t1 & IGFBP2 & 1.091533e-248 & -4.221090 & 0.154 & 0.860 & 3.547591e-244 & 243.4501 & 1.507407e-245 & 244.8218 & 7\\\\\n",
       "\t2 & NOVA1  & 2.314177e-191 & -2.086224 & 0.479 & 0.973 & 7.521307e-187 & 186.1237 & 1.597939e-188 & 187.7964 & 7\\\\\n",
       "\t3 & CKB    & 5.467835e-156 & -2.267760 & 0.236 & 0.791 & 1.777101e-151 & 150.7503 & 2.517027e-153 & 152.5991 & 7\\\\\n",
       "\t4 & TSFM   & 4.144443e-151 & -2.544499 & 0.032 & 0.506 & 1.346986e-146 & 145.8706 & 1.430869e-148 & 147.8444 & 7\\\\\n",
       "\t5 & MARCH9 & 1.204882e-147 & -2.975844 & 0.053 & 0.529 & 3.915987e-143 & 142.4072 & 2.773237e-145 & 144.5570 & 7\\\\\n",
       "\t6 & CDK4   & 1.679441e-133 & -3.494194 & 0.129 & 0.596 & 5.458352e-129 & 128.2629 & 3.313298e-131 & 130.4797 & 7\\\\\n",
       "\\end{tabular}\n"
      ],
      "text/markdown": [
       "\n",
       "A data.frame: 6 × 10\n",
       "\n",
       "| <!--/--> | gene &lt;chr&gt; | p_val &lt;dbl&gt; | avg_log2FC &lt;dbl&gt; | pct.1 &lt;dbl&gt; | pct.2 &lt;dbl&gt; | p_val_adj &lt;dbl&gt; | nlog10p.adj &lt;dbl&gt; | p_adj_FDR &lt;dbl&gt; | nlog10p.FDR &lt;dbl&gt; | cluster &lt;int&gt; |\n",
       "|---|---|---|---|---|---|---|---|---|---|---|\n",
       "| 1 | IGFBP2 | 1.091533e-248 | -4.221090 | 0.154 | 0.860 | 3.547591e-244 | 243.4501 | 1.507407e-245 | 244.8218 | 7 |\n",
       "| 2 | NOVA1  | 2.314177e-191 | -2.086224 | 0.479 | 0.973 | 7.521307e-187 | 186.1237 | 1.597939e-188 | 187.7964 | 7 |\n",
       "| 3 | CKB    | 5.467835e-156 | -2.267760 | 0.236 | 0.791 | 1.777101e-151 | 150.7503 | 2.517027e-153 | 152.5991 | 7 |\n",
       "| 4 | TSFM   | 4.144443e-151 | -2.544499 | 0.032 | 0.506 | 1.346986e-146 | 145.8706 | 1.430869e-148 | 147.8444 | 7 |\n",
       "| 5 | MARCH9 | 1.204882e-147 | -2.975844 | 0.053 | 0.529 | 3.915987e-143 | 142.4072 | 2.773237e-145 | 144.5570 | 7 |\n",
       "| 6 | CDK4   | 1.679441e-133 | -3.494194 | 0.129 | 0.596 | 5.458352e-129 | 128.2629 | 3.313298e-131 | 130.4797 | 7 |\n",
       "\n"
      ],
      "text/plain": [
       "  gene   p_val         avg_log2FC pct.1 pct.2 p_val_adj     nlog10p.adj\n",
       "1 IGFBP2 1.091533e-248 -4.221090  0.154 0.860 3.547591e-244 243.4501   \n",
       "2 NOVA1  2.314177e-191 -2.086224  0.479 0.973 7.521307e-187 186.1237   \n",
       "3 CKB    5.467835e-156 -2.267760  0.236 0.791 1.777101e-151 150.7503   \n",
       "4 TSFM   4.144443e-151 -2.544499  0.032 0.506 1.346986e-146 145.8706   \n",
       "5 MARCH9 1.204882e-147 -2.975844  0.053 0.529 3.915987e-143 142.4072   \n",
       "6 CDK4   1.679441e-133 -3.494194  0.129 0.596 5.458352e-129 128.2629   \n",
       "  p_adj_FDR     nlog10p.FDR cluster\n",
       "1 1.507407e-245 244.8218    7      \n",
       "2 1.597939e-188 187.7964    7      \n",
       "3 2.517027e-153 152.5991    7      \n",
       "4 1.430869e-148 147.8444    7      \n",
       "5 2.773237e-145 144.5570    7      \n",
       "6 3.313298e-131 130.4797    7      "
      ]
     },
     "metadata": {},
     "output_type": "display_data"
    },
    {
     "data": {
      "text/html": [
       "<table class=\"dataframe\">\n",
       "<caption>A data.frame: 6 × 10</caption>\n",
       "<thead>\n",
       "\t<tr><th></th><th scope=col>gene</th><th scope=col>p_val</th><th scope=col>avg_log2FC</th><th scope=col>pct.1</th><th scope=col>pct.2</th><th scope=col>p_val_adj</th><th scope=col>p_adj_FDR</th><th scope=col>nlog10p.adj</th><th scope=col>nlog10p.FDR</th><th scope=col>cluster</th></tr>\n",
       "\t<tr><th></th><th scope=col>&lt;chr&gt;</th><th scope=col>&lt;dbl&gt;</th><th scope=col>&lt;dbl&gt;</th><th scope=col>&lt;dbl&gt;</th><th scope=col>&lt;dbl&gt;</th><th scope=col>&lt;dbl&gt;</th><th scope=col>&lt;dbl&gt;</th><th scope=col>&lt;dbl&gt;</th><th scope=col>&lt;dbl&gt;</th><th scope=col>&lt;int&gt;</th></tr>\n",
       "</thead>\n",
       "<tbody>\n",
       "\t<tr><th scope=row>1</th><td>AluSp </td><td>0</td><td>0.7223646</td><td>1</td><td>1</td><td>0</td><td>0</td><td>Inf</td><td>Inf</td><td>7</td></tr>\n",
       "\t<tr><th scope=row>2</th><td>AluJo </td><td>0</td><td>0.7370293</td><td>1</td><td>1</td><td>0</td><td>0</td><td>Inf</td><td>Inf</td><td>7</td></tr>\n",
       "\t<tr><th scope=row>3</th><td>AluJr </td><td>0</td><td>0.7329050</td><td>1</td><td>1</td><td>0</td><td>0</td><td>Inf</td><td>Inf</td><td>7</td></tr>\n",
       "\t<tr><th scope=row>4</th><td>AluSx </td><td>0</td><td>0.7427912</td><td>1</td><td>1</td><td>0</td><td>0</td><td>Inf</td><td>Inf</td><td>7</td></tr>\n",
       "\t<tr><th scope=row>5</th><td>AluSz6</td><td>0</td><td>0.7136329</td><td>1</td><td>1</td><td>0</td><td>0</td><td>Inf</td><td>Inf</td><td>7</td></tr>\n",
       "\t<tr><th scope=row>6</th><td>AluSc </td><td>0</td><td>0.7481383</td><td>1</td><td>1</td><td>0</td><td>0</td><td>Inf</td><td>Inf</td><td>7</td></tr>\n",
       "</tbody>\n",
       "</table>\n"
      ],
      "text/latex": [
       "A data.frame: 6 × 10\n",
       "\\begin{tabular}{r|llllllllll}\n",
       "  & gene & p\\_val & avg\\_log2FC & pct.1 & pct.2 & p\\_val\\_adj & p\\_adj\\_FDR & nlog10p.adj & nlog10p.FDR & cluster\\\\\n",
       "  & <chr> & <dbl> & <dbl> & <dbl> & <dbl> & <dbl> & <dbl> & <dbl> & <dbl> & <int>\\\\\n",
       "\\hline\n",
       "\t1 & AluSp  & 0 & 0.7223646 & 1 & 1 & 0 & 0 & Inf & Inf & 7\\\\\n",
       "\t2 & AluJo  & 0 & 0.7370293 & 1 & 1 & 0 & 0 & Inf & Inf & 7\\\\\n",
       "\t3 & AluJr  & 0 & 0.7329050 & 1 & 1 & 0 & 0 & Inf & Inf & 7\\\\\n",
       "\t4 & AluSx  & 0 & 0.7427912 & 1 & 1 & 0 & 0 & Inf & Inf & 7\\\\\n",
       "\t5 & AluSz6 & 0 & 0.7136329 & 1 & 1 & 0 & 0 & Inf & Inf & 7\\\\\n",
       "\t6 & AluSc  & 0 & 0.7481383 & 1 & 1 & 0 & 0 & Inf & Inf & 7\\\\\n",
       "\\end{tabular}\n"
      ],
      "text/markdown": [
       "\n",
       "A data.frame: 6 × 10\n",
       "\n",
       "| <!--/--> | gene &lt;chr&gt; | p_val &lt;dbl&gt; | avg_log2FC &lt;dbl&gt; | pct.1 &lt;dbl&gt; | pct.2 &lt;dbl&gt; | p_val_adj &lt;dbl&gt; | p_adj_FDR &lt;dbl&gt; | nlog10p.adj &lt;dbl&gt; | nlog10p.FDR &lt;dbl&gt; | cluster &lt;int&gt; |\n",
       "|---|---|---|---|---|---|---|---|---|---|---|\n",
       "| 1 | AluSp  | 0 | 0.7223646 | 1 | 1 | 0 | 0 | Inf | Inf | 7 |\n",
       "| 2 | AluJo  | 0 | 0.7370293 | 1 | 1 | 0 | 0 | Inf | Inf | 7 |\n",
       "| 3 | AluJr  | 0 | 0.7329050 | 1 | 1 | 0 | 0 | Inf | Inf | 7 |\n",
       "| 4 | AluSx  | 0 | 0.7427912 | 1 | 1 | 0 | 0 | Inf | Inf | 7 |\n",
       "| 5 | AluSz6 | 0 | 0.7136329 | 1 | 1 | 0 | 0 | Inf | Inf | 7 |\n",
       "| 6 | AluSc  | 0 | 0.7481383 | 1 | 1 | 0 | 0 | Inf | Inf | 7 |\n",
       "\n"
      ],
      "text/plain": [
       "  gene   p_val avg_log2FC pct.1 pct.2 p_val_adj p_adj_FDR nlog10p.adj\n",
       "1 AluSp  0     0.7223646  1     1     0         0         Inf        \n",
       "2 AluJo  0     0.7370293  1     1     0         0         Inf        \n",
       "3 AluJr  0     0.7329050  1     1     0         0         Inf        \n",
       "4 AluSx  0     0.7427912  1     1     0         0         Inf        \n",
       "5 AluSz6 0     0.7136329  1     1     0         0         Inf        \n",
       "6 AluSc  0     0.7481383  1     1     0         0         Inf        \n",
       "  nlog10p.FDR cluster\n",
       "1 Inf         7      \n",
       "2 Inf         7      \n",
       "3 Inf         7      \n",
       "4 Inf         7      \n",
       "5 Inf         7      \n",
       "6 Inf         7      "
      ]
     },
     "metadata": {},
     "output_type": "display_data"
    },
    {
     "data": {
      "text/html": [
       "<table class=\"dataframe\">\n",
       "<caption>A data.frame: 6 × 10</caption>\n",
       "<thead>\n",
       "\t<tr><th></th><th scope=col>gene</th><th scope=col>p_val</th><th scope=col>avg_log2FC</th><th scope=col>pct.1</th><th scope=col>pct.2</th><th scope=col>p_val_adj</th><th scope=col>p_adj_FDR</th><th scope=col>nlog10p.adj</th><th scope=col>nlog10p.FDR</th><th scope=col>cluster</th></tr>\n",
       "\t<tr><th></th><th scope=col>&lt;chr&gt;</th><th scope=col>&lt;dbl&gt;</th><th scope=col>&lt;dbl&gt;</th><th scope=col>&lt;dbl&gt;</th><th scope=col>&lt;dbl&gt;</th><th scope=col>&lt;dbl&gt;</th><th scope=col>&lt;dbl&gt;</th><th scope=col>&lt;dbl&gt;</th><th scope=col>&lt;dbl&gt;</th><th scope=col>&lt;int&gt;</th></tr>\n",
       "</thead>\n",
       "<tbody>\n",
       "\t<tr><th scope=row>1</th><td>TMSB10</td><td>0</td><td>-1.1576966</td><td>0.836</td><td>0.973</td><td>0</td><td>0</td><td>Inf</td><td>Inf</td><td>7</td></tr>\n",
       "\t<tr><th scope=row>2</th><td>ACTB  </td><td>0</td><td>-1.1784577</td><td>0.845</td><td>0.971</td><td>0</td><td>0</td><td>Inf</td><td>Inf</td><td>7</td></tr>\n",
       "\t<tr><th scope=row>3</th><td>NDUFA4</td><td>0</td><td>-1.0795162</td><td>0.638</td><td>0.936</td><td>0</td><td>0</td><td>Inf</td><td>Inf</td><td>7</td></tr>\n",
       "\t<tr><th scope=row>4</th><td>LDHA  </td><td>0</td><td>-1.4326403</td><td>0.320</td><td>0.754</td><td>0</td><td>0</td><td>Inf</td><td>Inf</td><td>7</td></tr>\n",
       "\t<tr><th scope=row>5</th><td>FTH1  </td><td>0</td><td>-1.8633158</td><td>0.843</td><td>0.929</td><td>0</td><td>0</td><td>Inf</td><td>Inf</td><td>7</td></tr>\n",
       "\t<tr><th scope=row>6</th><td>CFL1  </td><td>0</td><td>-0.9017693</td><td>0.616</td><td>0.931</td><td>0</td><td>0</td><td>Inf</td><td>Inf</td><td>7</td></tr>\n",
       "</tbody>\n",
       "</table>\n"
      ],
      "text/latex": [
       "A data.frame: 6 × 10\n",
       "\\begin{tabular}{r|llllllllll}\n",
       "  & gene & p\\_val & avg\\_log2FC & pct.1 & pct.2 & p\\_val\\_adj & p\\_adj\\_FDR & nlog10p.adj & nlog10p.FDR & cluster\\\\\n",
       "  & <chr> & <dbl> & <dbl> & <dbl> & <dbl> & <dbl> & <dbl> & <dbl> & <dbl> & <int>\\\\\n",
       "\\hline\n",
       "\t1 & TMSB10 & 0 & -1.1576966 & 0.836 & 0.973 & 0 & 0 & Inf & Inf & 7\\\\\n",
       "\t2 & ACTB   & 0 & -1.1784577 & 0.845 & 0.971 & 0 & 0 & Inf & Inf & 7\\\\\n",
       "\t3 & NDUFA4 & 0 & -1.0795162 & 0.638 & 0.936 & 0 & 0 & Inf & Inf & 7\\\\\n",
       "\t4 & LDHA   & 0 & -1.4326403 & 0.320 & 0.754 & 0 & 0 & Inf & Inf & 7\\\\\n",
       "\t5 & FTH1   & 0 & -1.8633158 & 0.843 & 0.929 & 0 & 0 & Inf & Inf & 7\\\\\n",
       "\t6 & CFL1   & 0 & -0.9017693 & 0.616 & 0.931 & 0 & 0 & Inf & Inf & 7\\\\\n",
       "\\end{tabular}\n"
      ],
      "text/markdown": [
       "\n",
       "A data.frame: 6 × 10\n",
       "\n",
       "| <!--/--> | gene &lt;chr&gt; | p_val &lt;dbl&gt; | avg_log2FC &lt;dbl&gt; | pct.1 &lt;dbl&gt; | pct.2 &lt;dbl&gt; | p_val_adj &lt;dbl&gt; | p_adj_FDR &lt;dbl&gt; | nlog10p.adj &lt;dbl&gt; | nlog10p.FDR &lt;dbl&gt; | cluster &lt;int&gt; |\n",
       "|---|---|---|---|---|---|---|---|---|---|---|\n",
       "| 1 | TMSB10 | 0 | -1.1576966 | 0.836 | 0.973 | 0 | 0 | Inf | Inf | 7 |\n",
       "| 2 | ACTB   | 0 | -1.1784577 | 0.845 | 0.971 | 0 | 0 | Inf | Inf | 7 |\n",
       "| 3 | NDUFA4 | 0 | -1.0795162 | 0.638 | 0.936 | 0 | 0 | Inf | Inf | 7 |\n",
       "| 4 | LDHA   | 0 | -1.4326403 | 0.320 | 0.754 | 0 | 0 | Inf | Inf | 7 |\n",
       "| 5 | FTH1   | 0 | -1.8633158 | 0.843 | 0.929 | 0 | 0 | Inf | Inf | 7 |\n",
       "| 6 | CFL1   | 0 | -0.9017693 | 0.616 | 0.931 | 0 | 0 | Inf | Inf | 7 |\n",
       "\n"
      ],
      "text/plain": [
       "  gene   p_val avg_log2FC pct.1 pct.2 p_val_adj p_adj_FDR nlog10p.adj\n",
       "1 TMSB10 0     -1.1576966 0.836 0.973 0         0         Inf        \n",
       "2 ACTB   0     -1.1784577 0.845 0.971 0         0         Inf        \n",
       "3 NDUFA4 0     -1.0795162 0.638 0.936 0         0         Inf        \n",
       "4 LDHA   0     -1.4326403 0.320 0.754 0         0         Inf        \n",
       "5 FTH1   0     -1.8633158 0.843 0.929 0         0         Inf        \n",
       "6 CFL1   0     -0.9017693 0.616 0.931 0         0         Inf        \n",
       "  nlog10p.FDR cluster\n",
       "1 Inf         7      \n",
       "2 Inf         7      \n",
       "3 Inf         7      \n",
       "4 Inf         7      \n",
       "5 Inf         7      \n",
       "6 Inf         7      "
      ]
     },
     "metadata": {},
     "output_type": "display_data"
    }
   ],
   "source": [
    "head(c7.gbmUP)\n",
    "head(c7.gbmDN)\n",
    "head(c7UP)\n",
    "head(c7DN)"
   ]
  },
  {
   "cell_type": "code",
   "execution_count": 11,
   "id": "coral-peter",
   "metadata": {
    "hidden": true
   },
   "outputs": [
    {
     "name": "stdout",
     "output_type": "stream",
     "text": [
      "[1] \"Current working directory: /scratch/samkyy/gete-gbm/results/GBMGSCTE\"\n",
      "[1] \"New working directory: /scratch/samkyy/gete-gbm/results/2022-09-20\"\n",
      "[1] \"Current working directory: /scratch/samkyy/gete-gbm/results/2022-09-20\"\n",
      "[1] \"New working directory: /scratch/samkyy/gete-gbm/results/2022-09-20\"\n"
     ]
    }
   ],
   "source": [
    "mkdirToday() \n",
    "setwdToday()"
   ]
  },
  {
   "cell_type": "code",
   "execution_count": 12,
   "id": "german-subsection",
   "metadata": {
    "hidden": true
   },
   "outputs": [],
   "source": [
    "write.csv(c7.gbmUP, \"cluster7.GBM.GOupreg.csv\", row.names = FALSE)\n",
    "write.csv(c7.gbmDN, \"cluster7.NSC.GOupreg.csv\", row.names = FALSE)\n",
    "write.csv(c7UP, \"cluster7.GOupreg.csv\", row.names = FALSE)\n",
    "write.csv(c7DN, \"cluster7.GOdownreg.csv\", row.names = FALSE)"
   ]
  },
  {
   "cell_type": "code",
   "execution_count": 10,
   "id": "overhead-projection",
   "metadata": {
    "hidden": true,
    "scrolled": true
   },
   "outputs": [
    {
     "name": "stdout",
     "output_type": "stream",
     "text": [
      "[1] \"7\"\n",
      "[1] \"extracting gene symbols by cluster\"\n",
      "[1] \"Length of cluster_id : 1\"\n",
      "[1] 1\n",
      "[1] \"Number of non-unique genes in cluster7 = 0\"\n",
      "[1] \"converted gene symbols to entrez ids\"\n",
      "[1] \"BP\"\n"
     ]
    },
    {
     "name": "stderr",
     "output_type": "stream",
     "text": [
      "Warning message in makeValidParams(.Object):\n",
      "“converting geneIds from list to atomic vector via unlist”\n",
      "Warning message in rm(data):\n",
      "“object 'data' not found”\n"
     ]
    },
    {
     "name": "stdout",
     "output_type": "stream",
     "text": [
      "[1] \"MF\"\n"
     ]
    },
    {
     "name": "stderr",
     "output_type": "stream",
     "text": [
      "Warning message in makeValidParams(.Object):\n",
      "“converting geneIds from list to atomic vector via unlist”\n"
     ]
    },
    {
     "name": "stdout",
     "output_type": "stream",
     "text": [
      "[1] \"CC\"\n"
     ]
    },
    {
     "name": "stderr",
     "output_type": "stream",
     "text": [
      "Warning message in makeValidParams(.Object):\n",
      "“converting geneIds from list to atomic vector via unlist”\n"
     ]
    },
    {
     "name": "stdout",
     "output_type": "stream",
     "text": [
      "[1] \"Cluster:7gene ontology analysis complete.\"\n",
      "[1] \"7\"\n",
      "[1] \"extracting gene symbols by cluster\"\n",
      "[1] \"Length of cluster_id : 1\"\n",
      "[1] 1\n",
      "[1] \"Number of non-unique genes in cluster7 = 0\"\n",
      "[1] \"converted gene symbols to entrez ids\"\n",
      "[1] \"BP\"\n"
     ]
    },
    {
     "name": "stderr",
     "output_type": "stream",
     "text": [
      "Warning message in makeValidParams(.Object):\n",
      "“converting geneIds from list to atomic vector via unlist”\n",
      "Warning message in rm(data):\n",
      "“object 'data' not found”\n"
     ]
    },
    {
     "name": "stdout",
     "output_type": "stream",
     "text": [
      "[1] \"MF\"\n"
     ]
    },
    {
     "name": "stderr",
     "output_type": "stream",
     "text": [
      "Warning message in makeValidParams(.Object):\n",
      "“converting geneIds from list to atomic vector via unlist”\n"
     ]
    },
    {
     "name": "stdout",
     "output_type": "stream",
     "text": [
      "[1] \"CC\"\n"
     ]
    },
    {
     "name": "stderr",
     "output_type": "stream",
     "text": [
      "Warning message in makeValidParams(.Object):\n",
      "“converting geneIds from list to atomic vector via unlist”\n"
     ]
    },
    {
     "name": "stdout",
     "output_type": "stream",
     "text": [
      "[1] \"Cluster:7gene ontology analysis complete.\"\n",
      "[1] \"7\"\n",
      "[1] \"extracting gene symbols by cluster\"\n",
      "[1] \"Length of cluster_id : 1\"\n",
      "[1] 1\n",
      "[1] \"Number of non-unique genes in cluster7 = 0\"\n",
      "[1] \"converted gene symbols to entrez ids\"\n",
      "[1] \"BP\"\n"
     ]
    },
    {
     "name": "stderr",
     "output_type": "stream",
     "text": [
      "Warning message in makeValidParams(.Object):\n",
      "“converting geneIds from list to atomic vector via unlist”\n",
      "Warning message in rm(data):\n",
      "“object 'data' not found”\n"
     ]
    },
    {
     "name": "stdout",
     "output_type": "stream",
     "text": [
      "[1] \"MF\"\n"
     ]
    },
    {
     "name": "stderr",
     "output_type": "stream",
     "text": [
      "Warning message in makeValidParams(.Object):\n",
      "“converting geneIds from list to atomic vector via unlist”\n"
     ]
    },
    {
     "name": "stdout",
     "output_type": "stream",
     "text": [
      "[1] \"CC\"\n"
     ]
    },
    {
     "name": "stderr",
     "output_type": "stream",
     "text": [
      "Warning message in makeValidParams(.Object):\n",
      "“converting geneIds from list to atomic vector via unlist”\n"
     ]
    },
    {
     "name": "stdout",
     "output_type": "stream",
     "text": [
      "[1] \"Cluster:7gene ontology analysis complete.\"\n",
      "[1] \"7\"\n",
      "[1] \"extracting gene symbols by cluster\"\n",
      "[1] \"Length of cluster_id : 1\"\n",
      "[1] 1\n",
      "[1] \"Number of non-unique genes in cluster7 = 0\"\n",
      "[1] \"converted gene symbols to entrez ids\"\n",
      "[1] \"BP\"\n"
     ]
    },
    {
     "name": "stderr",
     "output_type": "stream",
     "text": [
      "Warning message in makeValidParams(.Object):\n",
      "“converting geneIds from list to atomic vector via unlist”\n",
      "Warning message in rm(data):\n",
      "“object 'data' not found”\n"
     ]
    },
    {
     "name": "stdout",
     "output_type": "stream",
     "text": [
      "[1] \"MF\"\n"
     ]
    },
    {
     "name": "stderr",
     "output_type": "stream",
     "text": [
      "Warning message in makeValidParams(.Object):\n",
      "“converting geneIds from list to atomic vector via unlist”\n"
     ]
    },
    {
     "name": "stdout",
     "output_type": "stream",
     "text": [
      "[1] \"CC\"\n"
     ]
    },
    {
     "name": "stderr",
     "output_type": "stream",
     "text": [
      "Warning message in makeValidParams(.Object):\n",
      "“converting geneIds from list to atomic vector via unlist”\n"
     ]
    },
    {
     "name": "stdout",
     "output_type": "stream",
     "text": [
      "[1] \"Cluster:7gene ontology analysis complete.\"\n"
     ]
    }
   ],
   "source": [
    "# Perform GO analysis on each of these groups\n",
    "GBM.GO <- geneontology(c7.gbmUP)\n",
    "NSC.GO <- geneontology(c7.gbmDN)\n",
    "c7UP.GO <- geneontology(c7UP)\n",
    "c7DN.GO <- geneontology(c7DN)"
   ]
  },
  {
   "cell_type": "code",
   "execution_count": 13,
   "id": "usual-detail",
   "metadata": {
    "hidden": true
   },
   "outputs": [],
   "source": [
    "saveRDS(GBM.GO, file=\"gbmsc_c7_GO_GBM.rds\")\n",
    "saveRDS(NSC.GO, file=\"gbmsc_c7_GO_NSC.rds\")\n",
    "saveRDS(c7UP.GO, file=\"gbmsc_c7_GOup.rds\")\n",
    "saveRDS(c7DN.GO, file=\"gbmsc_c7_GOdown.rds\")"
   ]
  },
  {
   "cell_type": "code",
   "execution_count": 14,
   "id": "informative-family",
   "metadata": {
    "hidden": true
   },
   "outputs": [
    {
     "name": "stdout",
     "output_type": "stream",
     "text": [
      "Number of clusters:  1 \n",
      "Cluster names:  7 \n",
      "Beginning summary of cluster  7 \n",
      "BP computed \n",
      "MF computed \n",
      "CC computed \n",
      "Number of clusters:  1 \n",
      "Cluster names:  7 \n",
      "Beginning summary of cluster  7 \n",
      "BP computed \n",
      "MF computed \n",
      "CC computed \n",
      "Number of clusters:  1 \n",
      "Cluster names:  7 \n",
      "Beginning summary of cluster  7 \n",
      "BP computed \n",
      "MF computed \n",
      "CC computed \n",
      "Number of clusters:  1 \n",
      "Cluster names:  7 \n",
      "Beginning summary of cluster  7 \n",
      "BP computed \n",
      "MF computed \n",
      "CC computed \n"
     ]
    }
   ],
   "source": [
    "GBM.GO <- makeGOsummary(GBM.GO)\n",
    "NSC.GO <- makeGOsummary(NSC.GO)\n",
    "c7UP.GO <- makeGOsummary(c7UP.GO)\n",
    "c7DN.GO <- makeGOsummary(c7DN.GO)"
   ]
  },
  {
   "cell_type": "code",
   "execution_count": 15,
   "id": "relative-modeling",
   "metadata": {
    "hidden": true
   },
   "outputs": [
    {
     "data": {
      "text/html": [
       "<table class=\"dataframe\">\n",
       "<caption>A data.frame: 6 × 11</caption>\n",
       "<thead>\n",
       "\t<tr><th></th><th scope=col>GOID</th><th scope=col>Term</th><th scope=col>Class</th><th scope=col>Pvalue</th><th scope=col>p.adj</th><th scope=col>nlog10p.adj</th><th scope=col>OddsRatio</th><th scope=col>ExpCount</th><th scope=col>Count</th><th scope=col>Size</th><th scope=col>cluster</th></tr>\n",
       "\t<tr><th></th><th scope=col>&lt;chr&gt;</th><th scope=col>&lt;chr&gt;</th><th scope=col>&lt;chr&gt;</th><th scope=col>&lt;dbl&gt;</th><th scope=col>&lt;dbl&gt;</th><th scope=col>&lt;dbl&gt;</th><th scope=col>&lt;dbl&gt;</th><th scope=col>&lt;dbl&gt;</th><th scope=col>&lt;int&gt;</th><th scope=col>&lt;int&gt;</th><th scope=col>&lt;chr&gt;</th></tr>\n",
       "</thead>\n",
       "<tbody>\n",
       "\t<tr><th scope=row>1</th><td>GO:0006614</td><td>SRP-dependent cotranslational protein targeting to membrane        </td><td>BP</td><td>2.810250e-26</td><td>3.489714e-23</td><td>22.45721</td><td>183.7647</td><td>0.1780982</td><td>15</td><td>105</td><td>7</td></tr>\n",
       "\t<tr><th scope=row>2</th><td>GO:0006613</td><td>cotranslational protein targeting to membrane                      </td><td>BP</td><td>5.109391e-26</td><td>3.489714e-23</td><td>22.45721</td><td>175.9074</td><td>0.1848829</td><td>15</td><td>109</td><td>7</td></tr>\n",
       "\t<tr><th scope=row>3</th><td>GO:0000184</td><td>nuclear-transcribed mRNA catabolic process, nonsense-mediated decay</td><td>BP</td><td>2.358139e-25</td><td>8.053046e-23</td><td>22.09404</td><td>157.3866</td><td>0.2035408</td><td>15</td><td>120</td><td>7</td></tr>\n",
       "\t<tr><th scope=row>4</th><td>GO:0045047</td><td>protein targeting to ER                                            </td><td>BP</td><td>2.358139e-25</td><td>8.053046e-23</td><td>22.09404</td><td>157.3866</td><td>0.2035408</td><td>15</td><td>120</td><td>7</td></tr>\n",
       "\t<tr><th scope=row>5</th><td>GO:0072599</td><td>establishment of protein localization to endoplasmic reticulum     </td><td>BP</td><td>3.963008e-25</td><td>1.082694e-22</td><td>21.96549</td><td>151.5785</td><td>0.2103255</td><td>15</td><td>124</td><td>7</td></tr>\n",
       "\t<tr><th scope=row>6</th><td>GO:0070972</td><td>protein localization to endoplasmic reticulum                      </td><td>BP</td><td>9.704333e-24</td><td>2.209353e-21</td><td>20.65573</td><td>120.4186</td><td>0.2578183</td><td>15</td><td>152</td><td>7</td></tr>\n",
       "</tbody>\n",
       "</table>\n"
      ],
      "text/latex": [
       "A data.frame: 6 × 11\n",
       "\\begin{tabular}{r|lllllllllll}\n",
       "  & GOID & Term & Class & Pvalue & p.adj & nlog10p.adj & OddsRatio & ExpCount & Count & Size & cluster\\\\\n",
       "  & <chr> & <chr> & <chr> & <dbl> & <dbl> & <dbl> & <dbl> & <dbl> & <int> & <int> & <chr>\\\\\n",
       "\\hline\n",
       "\t1 & GO:0006614 & SRP-dependent cotranslational protein targeting to membrane         & BP & 2.810250e-26 & 3.489714e-23 & 22.45721 & 183.7647 & 0.1780982 & 15 & 105 & 7\\\\\n",
       "\t2 & GO:0006613 & cotranslational protein targeting to membrane                       & BP & 5.109391e-26 & 3.489714e-23 & 22.45721 & 175.9074 & 0.1848829 & 15 & 109 & 7\\\\\n",
       "\t3 & GO:0000184 & nuclear-transcribed mRNA catabolic process, nonsense-mediated decay & BP & 2.358139e-25 & 8.053046e-23 & 22.09404 & 157.3866 & 0.2035408 & 15 & 120 & 7\\\\\n",
       "\t4 & GO:0045047 & protein targeting to ER                                             & BP & 2.358139e-25 & 8.053046e-23 & 22.09404 & 157.3866 & 0.2035408 & 15 & 120 & 7\\\\\n",
       "\t5 & GO:0072599 & establishment of protein localization to endoplasmic reticulum      & BP & 3.963008e-25 & 1.082694e-22 & 21.96549 & 151.5785 & 0.2103255 & 15 & 124 & 7\\\\\n",
       "\t6 & GO:0070972 & protein localization to endoplasmic reticulum                       & BP & 9.704333e-24 & 2.209353e-21 & 20.65573 & 120.4186 & 0.2578183 & 15 & 152 & 7\\\\\n",
       "\\end{tabular}\n"
      ],
      "text/markdown": [
       "\n",
       "A data.frame: 6 × 11\n",
       "\n",
       "| <!--/--> | GOID &lt;chr&gt; | Term &lt;chr&gt; | Class &lt;chr&gt; | Pvalue &lt;dbl&gt; | p.adj &lt;dbl&gt; | nlog10p.adj &lt;dbl&gt; | OddsRatio &lt;dbl&gt; | ExpCount &lt;dbl&gt; | Count &lt;int&gt; | Size &lt;int&gt; | cluster &lt;chr&gt; |\n",
       "|---|---|---|---|---|---|---|---|---|---|---|---|\n",
       "| 1 | GO:0006614 | SRP-dependent cotranslational protein targeting to membrane         | BP | 2.810250e-26 | 3.489714e-23 | 22.45721 | 183.7647 | 0.1780982 | 15 | 105 | 7 |\n",
       "| 2 | GO:0006613 | cotranslational protein targeting to membrane                       | BP | 5.109391e-26 | 3.489714e-23 | 22.45721 | 175.9074 | 0.1848829 | 15 | 109 | 7 |\n",
       "| 3 | GO:0000184 | nuclear-transcribed mRNA catabolic process, nonsense-mediated decay | BP | 2.358139e-25 | 8.053046e-23 | 22.09404 | 157.3866 | 0.2035408 | 15 | 120 | 7 |\n",
       "| 4 | GO:0045047 | protein targeting to ER                                             | BP | 2.358139e-25 | 8.053046e-23 | 22.09404 | 157.3866 | 0.2035408 | 15 | 120 | 7 |\n",
       "| 5 | GO:0072599 | establishment of protein localization to endoplasmic reticulum      | BP | 3.963008e-25 | 1.082694e-22 | 21.96549 | 151.5785 | 0.2103255 | 15 | 124 | 7 |\n",
       "| 6 | GO:0070972 | protein localization to endoplasmic reticulum                       | BP | 9.704333e-24 | 2.209353e-21 | 20.65573 | 120.4186 | 0.2578183 | 15 | 152 | 7 |\n",
       "\n"
      ],
      "text/plain": [
       "  GOID      \n",
       "1 GO:0006614\n",
       "2 GO:0006613\n",
       "3 GO:0000184\n",
       "4 GO:0045047\n",
       "5 GO:0072599\n",
       "6 GO:0070972\n",
       "  Term                                                                Class\n",
       "1 SRP-dependent cotranslational protein targeting to membrane         BP   \n",
       "2 cotranslational protein targeting to membrane                       BP   \n",
       "3 nuclear-transcribed mRNA catabolic process, nonsense-mediated decay BP   \n",
       "4 protein targeting to ER                                             BP   \n",
       "5 establishment of protein localization to endoplasmic reticulum      BP   \n",
       "6 protein localization to endoplasmic reticulum                       BP   \n",
       "  Pvalue       p.adj        nlog10p.adj OddsRatio ExpCount  Count Size cluster\n",
       "1 2.810250e-26 3.489714e-23 22.45721    183.7647  0.1780982 15    105  7      \n",
       "2 5.109391e-26 3.489714e-23 22.45721    175.9074  0.1848829 15    109  7      \n",
       "3 2.358139e-25 8.053046e-23 22.09404    157.3866  0.2035408 15    120  7      \n",
       "4 2.358139e-25 8.053046e-23 22.09404    157.3866  0.2035408 15    120  7      \n",
       "5 3.963008e-25 1.082694e-22 21.96549    151.5785  0.2103255 15    124  7      \n",
       "6 9.704333e-24 2.209353e-21 20.65573    120.4186  0.2578183 15    152  7      "
      ]
     },
     "metadata": {},
     "output_type": "display_data"
    }
   ],
   "source": [
    "head(GBM.GO)"
   ]
  },
  {
   "cell_type": "code",
   "execution_count": 16,
   "id": "hybrid-picnic",
   "metadata": {
    "hidden": true
   },
   "outputs": [],
   "source": [
    "write.csv(GBM.GO, \"cluster7.GBM.GOupreg_summary.csv\", row.names = FALSE)\n",
    "write.csv(NSC.GO, \"cluster7.NSC.GOupreg_summary.csv\", row.names = FALSE)\n",
    "write.csv(c7UP.GO, \"cluster7.GOupreg_summary.csv\", row.names = FALSE)\n",
    "write.csv(c7DN.GO, \"cluster7.GOdownreg_summary.csv\", row.names = FALSE)"
   ]
  },
  {
   "cell_type": "markdown",
   "id": "published-grass",
   "metadata": {},
   "source": [
    "## Plotting the Dot Plots"
   ]
  },
  {
   "cell_type": "code",
   "execution_count": 18,
   "id": "chubby-plastic",
   "metadata": {
    "scrolled": true
   },
   "outputs": [
    {
     "data": {
      "text/html": [
       "<table class=\"dataframe\">\n",
       "<caption>A data.frame: 6 × 12</caption>\n",
       "<thead>\n",
       "\t<tr><th></th><th scope=col>GOID</th><th scope=col>Term</th><th scope=col>Class</th><th scope=col>Pvalue</th><th scope=col>p.adj</th><th scope=col>nlog10p.adj</th><th scope=col>OddsRatio</th><th scope=col>ExpCount</th><th scope=col>Count</th><th scope=col>Size</th><th scope=col>cluster</th><th scope=col>group</th></tr>\n",
       "\t<tr><th></th><th scope=col>&lt;chr&gt;</th><th scope=col>&lt;chr&gt;</th><th scope=col>&lt;chr&gt;</th><th scope=col>&lt;dbl&gt;</th><th scope=col>&lt;dbl&gt;</th><th scope=col>&lt;dbl&gt;</th><th scope=col>&lt;dbl&gt;</th><th scope=col>&lt;dbl&gt;</th><th scope=col>&lt;int&gt;</th><th scope=col>&lt;int&gt;</th><th scope=col>&lt;chr&gt;</th><th scope=col>&lt;chr&gt;</th></tr>\n",
       "</thead>\n",
       "<tbody>\n",
       "\t<tr><th scope=row>1</th><td>GO:0043618</td><td>regulation of transcription from RNA polymerase II promoter in response to stress         </td><td>BP</td><td>3.346639e-05</td><td>5.575011e-04</td><td>3.253754</td><td> 25.481633</td><td> 0.18488286</td><td> 4</td><td> 109</td><td>7</td><td>GBM</td></tr>\n",
       "\t<tr><th scope=row>2</th><td>GO:0043620</td><td>regulation of DNA-templated transcription in response to stress                           </td><td>BP</td><td>4.129276e-05</td><td>6.409762e-04</td><td>3.193158</td><td> 24.096525</td><td> 0.19505990</td><td> 4</td><td> 115</td><td>7</td><td>GBM</td></tr>\n",
       "\t<tr><th scope=row>3</th><td>GO:0097201</td><td>negative regulation of transcription from RNA polymerase II promoter in response to stress</td><td>BP</td><td>1.820178e-04</td><td>2.323704e-03</td><td>2.633819</td><td>125.493333</td><td> 0.02035408</td><td> 2</td><td>  12</td><td>7</td><td>GBM</td></tr>\n",
       "\t<tr><th scope=row>4</th><td>GO:0042127</td><td>regulation of cell population proliferation                                               </td><td>BP</td><td>1.126100e-06</td><td>7.758383e-05</td><td>4.110229</td><td>  3.544315</td><td> 8.79910951</td><td>25</td><td>1766</td><td>7</td><td>NSC</td></tr>\n",
       "\t<tr><th scope=row>5</th><td>GO:0008283</td><td>cell population proliferation                                                             </td><td>BP</td><td>4.920190e-06</td><td>2.171357e-04</td><td>3.663269</td><td>  3.169121</td><td>10.19919432</td><td>26</td><td>2047</td><td>7</td><td>NSC</td></tr>\n",
       "\t<tr><th scope=row>6</th><td>GO:0001666</td><td>response to hypoxia                                                                       </td><td>BP</td><td>1.202688e-05</td><td>4.214325e-04</td><td>3.375272</td><td>  6.284282</td><td> 1.78872045</td><td>10</td><td> 359</td><td>7</td><td>NSC</td></tr>\n",
       "</tbody>\n",
       "</table>\n"
      ],
      "text/latex": [
       "A data.frame: 6 × 12\n",
       "\\begin{tabular}{r|llllllllllll}\n",
       "  & GOID & Term & Class & Pvalue & p.adj & nlog10p.adj & OddsRatio & ExpCount & Count & Size & cluster & group\\\\\n",
       "  & <chr> & <chr> & <chr> & <dbl> & <dbl> & <dbl> & <dbl> & <dbl> & <int> & <int> & <chr> & <chr>\\\\\n",
       "\\hline\n",
       "\t1 & GO:0043618 & regulation of transcription from RNA polymerase II promoter in response to stress          & BP & 3.346639e-05 & 5.575011e-04 & 3.253754 &  25.481633 &  0.18488286 &  4 &  109 & 7 & GBM\\\\\n",
       "\t2 & GO:0043620 & regulation of DNA-templated transcription in response to stress                            & BP & 4.129276e-05 & 6.409762e-04 & 3.193158 &  24.096525 &  0.19505990 &  4 &  115 & 7 & GBM\\\\\n",
       "\t3 & GO:0097201 & negative regulation of transcription from RNA polymerase II promoter in response to stress & BP & 1.820178e-04 & 2.323704e-03 & 2.633819 & 125.493333 &  0.02035408 &  2 &   12 & 7 & GBM\\\\\n",
       "\t4 & GO:0042127 & regulation of cell population proliferation                                                & BP & 1.126100e-06 & 7.758383e-05 & 4.110229 &   3.544315 &  8.79910951 & 25 & 1766 & 7 & NSC\\\\\n",
       "\t5 & GO:0008283 & cell population proliferation                                                              & BP & 4.920190e-06 & 2.171357e-04 & 3.663269 &   3.169121 & 10.19919432 & 26 & 2047 & 7 & NSC\\\\\n",
       "\t6 & GO:0001666 & response to hypoxia                                                                        & BP & 1.202688e-05 & 4.214325e-04 & 3.375272 &   6.284282 &  1.78872045 & 10 &  359 & 7 & NSC\\\\\n",
       "\\end{tabular}\n"
      ],
      "text/markdown": [
       "\n",
       "A data.frame: 6 × 12\n",
       "\n",
       "| <!--/--> | GOID &lt;chr&gt; | Term &lt;chr&gt; | Class &lt;chr&gt; | Pvalue &lt;dbl&gt; | p.adj &lt;dbl&gt; | nlog10p.adj &lt;dbl&gt; | OddsRatio &lt;dbl&gt; | ExpCount &lt;dbl&gt; | Count &lt;int&gt; | Size &lt;int&gt; | cluster &lt;chr&gt; | group &lt;chr&gt; |\n",
       "|---|---|---|---|---|---|---|---|---|---|---|---|---|\n",
       "| 1 | GO:0043618 | regulation of transcription from RNA polymerase II promoter in response to stress          | BP | 3.346639e-05 | 5.575011e-04 | 3.253754 |  25.481633 |  0.18488286 |  4 |  109 | 7 | GBM |\n",
       "| 2 | GO:0043620 | regulation of DNA-templated transcription in response to stress                            | BP | 4.129276e-05 | 6.409762e-04 | 3.193158 |  24.096525 |  0.19505990 |  4 |  115 | 7 | GBM |\n",
       "| 3 | GO:0097201 | negative regulation of transcription from RNA polymerase II promoter in response to stress | BP | 1.820178e-04 | 2.323704e-03 | 2.633819 | 125.493333 |  0.02035408 |  2 |   12 | 7 | GBM |\n",
       "| 4 | GO:0042127 | regulation of cell population proliferation                                                | BP | 1.126100e-06 | 7.758383e-05 | 4.110229 |   3.544315 |  8.79910951 | 25 | 1766 | 7 | NSC |\n",
       "| 5 | GO:0008283 | cell population proliferation                                                              | BP | 4.920190e-06 | 2.171357e-04 | 3.663269 |   3.169121 | 10.19919432 | 26 | 2047 | 7 | NSC |\n",
       "| 6 | GO:0001666 | response to hypoxia                                                                        | BP | 1.202688e-05 | 4.214325e-04 | 3.375272 |   6.284282 |  1.78872045 | 10 |  359 | 7 | NSC |\n",
       "\n"
      ],
      "text/plain": [
       "  GOID      \n",
       "1 GO:0043618\n",
       "2 GO:0043620\n",
       "3 GO:0097201\n",
       "4 GO:0042127\n",
       "5 GO:0008283\n",
       "6 GO:0001666\n",
       "  Term                                                                                      \n",
       "1 regulation of transcription from RNA polymerase II promoter in response to stress         \n",
       "2 regulation of DNA-templated transcription in response to stress                           \n",
       "3 negative regulation of transcription from RNA polymerase II promoter in response to stress\n",
       "4 regulation of cell population proliferation                                               \n",
       "5 cell population proliferation                                                             \n",
       "6 response to hypoxia                                                                       \n",
       "  Class Pvalue       p.adj        nlog10p.adj OddsRatio  ExpCount    Count Size\n",
       "1 BP    3.346639e-05 5.575011e-04 3.253754     25.481633  0.18488286  4     109\n",
       "2 BP    4.129276e-05 6.409762e-04 3.193158     24.096525  0.19505990  4     115\n",
       "3 BP    1.820178e-04 2.323704e-03 2.633819    125.493333  0.02035408  2      12\n",
       "4 BP    1.126100e-06 7.758383e-05 4.110229      3.544315  8.79910951 25    1766\n",
       "5 BP    4.920190e-06 2.171357e-04 3.663269      3.169121 10.19919432 26    2047\n",
       "6 BP    1.202688e-05 4.214325e-04 3.375272      6.284282  1.78872045 10     359\n",
       "  cluster group\n",
       "1 7       GBM  \n",
       "2 7       GBM  \n",
       "3 7       GBM  \n",
       "4 7       NSC  \n",
       "5 7       NSC  \n",
       "6 7       NSC  "
      ]
     },
     "metadata": {},
     "output_type": "display_data"
    },
    {
     "data": {
      "text/html": [
       "<table class=\"dataframe\">\n",
       "<caption>A data.frame: 6 × 12</caption>\n",
       "<thead>\n",
       "\t<tr><th></th><th scope=col>GOID</th><th scope=col>Term</th><th scope=col>Class</th><th scope=col>Pvalue</th><th scope=col>p.adj</th><th scope=col>nlog10p.adj</th><th scope=col>OddsRatio</th><th scope=col>ExpCount</th><th scope=col>Count</th><th scope=col>Size</th><th scope=col>cluster</th><th scope=col>group</th></tr>\n",
       "\t<tr><th></th><th scope=col>&lt;chr&gt;</th><th scope=col>&lt;chr&gt;</th><th scope=col>&lt;chr&gt;</th><th scope=col>&lt;dbl&gt;</th><th scope=col>&lt;dbl&gt;</th><th scope=col>&lt;dbl&gt;</th><th scope=col>&lt;dbl&gt;</th><th scope=col>&lt;dbl&gt;</th><th scope=col>&lt;int&gt;</th><th scope=col>&lt;int&gt;</th><th scope=col>&lt;chr&gt;</th><th scope=col>&lt;chr&gt;</th></tr>\n",
       "</thead>\n",
       "<tbody>\n",
       "\t<tr><th scope=row>70</th><td>GO:0016209</td><td>antioxidant activity                 </td><td>MF</td><td>7.078478e-12</td><td>8.228731e-10</td><td>9.084667</td><td> 10.200917</td><td>2.2493461</td><td>18</td><td>86</td><td>7</td><td>TE-enriched</td></tr>\n",
       "\t<tr><th scope=row>71</th><td>GO:0004601</td><td>peroxidase activity                  </td><td>MF</td><td>8.060220e-07</td><td>2.025947e-05</td><td>4.693372</td><td>  9.032421</td><td>1.3600697</td><td>10</td><td>52</td><td>7</td><td>TE-enriched</td></tr>\n",
       "\t<tr><th scope=row>72</th><td>GO:0008379</td><td>thioredoxin peroxidase activity      </td><td>MF</td><td>2.263566e-06</td><td>5.012181e-05</td><td>4.299973</td><td>150.176471</td><td>0.1307759</td><td> 4</td><td> 5</td><td>7</td><td>TE-enriched</td></tr>\n",
       "\t<tr><th scope=row>73</th><td>GO:0004129</td><td>cytochrome-c oxidase activity        </td><td>MF</td><td>7.163859e-05</td><td>1.168840e-03</td><td>2.932245</td><td> 10.270426</td><td>0.7323452</td><td> 6</td><td>28</td><td>7</td><td>TE-enriched</td></tr>\n",
       "\t<tr><th scope=row>74</th><td>GO:0015002</td><td>heme-copper terminal oxidase activity</td><td>MF</td><td>7.163859e-05</td><td>1.168840e-03</td><td>2.932245</td><td> 10.270426</td><td>0.7323452</td><td> 6</td><td>28</td><td>7</td><td>TE-enriched</td></tr>\n",
       "\t<tr><th scope=row>75</th><td>GO:0004602</td><td>glutathione peroxidase activity      </td><td>MF</td><td>1.724332e-04</td><td>2.358278e-03</td><td>2.627405</td><td> 11.747368</td><td>0.5492589</td><td> 5</td><td>21</td><td>7</td><td>TE-enriched</td></tr>\n",
       "</tbody>\n",
       "</table>\n"
      ],
      "text/latex": [
       "A data.frame: 6 × 12\n",
       "\\begin{tabular}{r|llllllllllll}\n",
       "  & GOID & Term & Class & Pvalue & p.adj & nlog10p.adj & OddsRatio & ExpCount & Count & Size & cluster & group\\\\\n",
       "  & <chr> & <chr> & <chr> & <dbl> & <dbl> & <dbl> & <dbl> & <dbl> & <int> & <int> & <chr> & <chr>\\\\\n",
       "\\hline\n",
       "\t70 & GO:0016209 & antioxidant activity                  & MF & 7.078478e-12 & 8.228731e-10 & 9.084667 &  10.200917 & 2.2493461 & 18 & 86 & 7 & TE-enriched\\\\\n",
       "\t71 & GO:0004601 & peroxidase activity                   & MF & 8.060220e-07 & 2.025947e-05 & 4.693372 &   9.032421 & 1.3600697 & 10 & 52 & 7 & TE-enriched\\\\\n",
       "\t72 & GO:0008379 & thioredoxin peroxidase activity       & MF & 2.263566e-06 & 5.012181e-05 & 4.299973 & 150.176471 & 0.1307759 &  4 &  5 & 7 & TE-enriched\\\\\n",
       "\t73 & GO:0004129 & cytochrome-c oxidase activity         & MF & 7.163859e-05 & 1.168840e-03 & 2.932245 &  10.270426 & 0.7323452 &  6 & 28 & 7 & TE-enriched\\\\\n",
       "\t74 & GO:0015002 & heme-copper terminal oxidase activity & MF & 7.163859e-05 & 1.168840e-03 & 2.932245 &  10.270426 & 0.7323452 &  6 & 28 & 7 & TE-enriched\\\\\n",
       "\t75 & GO:0004602 & glutathione peroxidase activity       & MF & 1.724332e-04 & 2.358278e-03 & 2.627405 &  11.747368 & 0.5492589 &  5 & 21 & 7 & TE-enriched\\\\\n",
       "\\end{tabular}\n"
      ],
      "text/markdown": [
       "\n",
       "A data.frame: 6 × 12\n",
       "\n",
       "| <!--/--> | GOID &lt;chr&gt; | Term &lt;chr&gt; | Class &lt;chr&gt; | Pvalue &lt;dbl&gt; | p.adj &lt;dbl&gt; | nlog10p.adj &lt;dbl&gt; | OddsRatio &lt;dbl&gt; | ExpCount &lt;dbl&gt; | Count &lt;int&gt; | Size &lt;int&gt; | cluster &lt;chr&gt; | group &lt;chr&gt; |\n",
       "|---|---|---|---|---|---|---|---|---|---|---|---|---|\n",
       "| 70 | GO:0016209 | antioxidant activity                  | MF | 7.078478e-12 | 8.228731e-10 | 9.084667 |  10.200917 | 2.2493461 | 18 | 86 | 7 | TE-enriched |\n",
       "| 71 | GO:0004601 | peroxidase activity                   | MF | 8.060220e-07 | 2.025947e-05 | 4.693372 |   9.032421 | 1.3600697 | 10 | 52 | 7 | TE-enriched |\n",
       "| 72 | GO:0008379 | thioredoxin peroxidase activity       | MF | 2.263566e-06 | 5.012181e-05 | 4.299973 | 150.176471 | 0.1307759 |  4 |  5 | 7 | TE-enriched |\n",
       "| 73 | GO:0004129 | cytochrome-c oxidase activity         | MF | 7.163859e-05 | 1.168840e-03 | 2.932245 |  10.270426 | 0.7323452 |  6 | 28 | 7 | TE-enriched |\n",
       "| 74 | GO:0015002 | heme-copper terminal oxidase activity | MF | 7.163859e-05 | 1.168840e-03 | 2.932245 |  10.270426 | 0.7323452 |  6 | 28 | 7 | TE-enriched |\n",
       "| 75 | GO:0004602 | glutathione peroxidase activity       | MF | 1.724332e-04 | 2.358278e-03 | 2.627405 |  11.747368 | 0.5492589 |  5 | 21 | 7 | TE-enriched |\n",
       "\n"
      ],
      "text/plain": [
       "   GOID       Term                                  Class Pvalue      \n",
       "70 GO:0016209 antioxidant activity                  MF    7.078478e-12\n",
       "71 GO:0004601 peroxidase activity                   MF    8.060220e-07\n",
       "72 GO:0008379 thioredoxin peroxidase activity       MF    2.263566e-06\n",
       "73 GO:0004129 cytochrome-c oxidase activity         MF    7.163859e-05\n",
       "74 GO:0015002 heme-copper terminal oxidase activity MF    7.163859e-05\n",
       "75 GO:0004602 glutathione peroxidase activity       MF    1.724332e-04\n",
       "   p.adj        nlog10p.adj OddsRatio  ExpCount  Count Size cluster group      \n",
       "70 8.228731e-10 9.084667     10.200917 2.2493461 18    86   7       TE-enriched\n",
       "71 2.025947e-05 4.693372      9.032421 1.3600697 10    52   7       TE-enriched\n",
       "72 5.012181e-05 4.299973    150.176471 0.1307759  4     5   7       TE-enriched\n",
       "73 1.168840e-03 2.932245     10.270426 0.7323452  6    28   7       TE-enriched\n",
       "74 1.168840e-03 2.932245     10.270426 0.7323452  6    28   7       TE-enriched\n",
       "75 2.358278e-03 2.627405     11.747368 0.5492589  5    21   7       TE-enriched"
      ]
     },
     "metadata": {},
     "output_type": "display_data"
    }
   ],
   "source": [
    "GBM.GO$group <- \"GBM\"\n",
    "NSC.GO$group <- \"NSC\"\n",
    "c7UP.GO$group <- \"TE-enriched\"\n",
    "c7DN.GO$group <- \"TE-enriched\"\n",
    "\n",
    "cancer.GO <- GBM.GO %>% dplyr::filter((Class == \"BP\" | Class == \"MF\") & \n",
    "                                      grepl('oxida|stress|hypoxia|monoxia|prolif|mobil|cell cycle|aging|senescence', Term) &\n",
    "                                        p.adj <= 0.01)\n",
    "cancer.GO <- rbind(cancer.GO, NSC.GO %>% dplyr::filter((Class == \"BP\" | Class == \"MF\") & \n",
    "                               grepl('oxida|stress|hypoxia|monoxia|prolif|mobil|cell cycle|aging|senescence', Term) &\n",
    "                                        p.adj <= 0.01))\n",
    "cancer.GO <- rbind(cancer.GO, c7UP.GO %>% dplyr::filter((Class == \"BP\" | Class == \"MF\") & \n",
    "                               grepl('oxida|stress|hypoxia|monoxia|prolif|mobil|cell cycle|aging|senescence', Term) &\n",
    "                                        p.adj <= 0.01))\n",
    "cancer.GO <- rbind(cancer.GO, c7DN.GO %>% dplyr::filter((Class == \"BP\" | Class == \"MF\") & \n",
    "                               grepl('oxida|stress|hypoxia|monoxia|prolif|mobil|cell cycle|aging|senescence', Term) &\n",
    "                                        p.adj <= 0.01))\n",
    "head(cancer.GO)\n",
    "tail(cancer.GO)"
   ]
  },
  {
   "cell_type": "code",
   "execution_count": 30,
   "id": "oriented-fundamentals",
   "metadata": {},
   "outputs": [],
   "source": [
    "write.csv(cancer.GO, \"gte_GO_GBM.NSC.c7.csv\", row.names=FALSE)"
   ]
  },
  {
   "cell_type": "code",
   "execution_count": 29,
   "id": "thick-photography",
   "metadata": {
    "scrolled": true
   },
   "outputs": [
    {
     "data": {
      "image/png": "[encoded data removed]",
      "text/plain": [
       "plot without title"
      ]
     },
     "metadata": {
      "image/png": {
       "height": 420,
       "width": 420
      }
     },
     "output_type": "display_data"
    }
   ],
   "source": [
    "p1 <- cancer.GO %>% filter(group = \"TE-enriched\") %>% \n",
    "                ggplot(aes(x=group, y=Term, color = `p.adj`, size = Count)) + \n",
    "                        geom_point()\n",
    "\n",
    "p1\n",
    "# ggsave(\"gte_GO_GBM.NSC.c7_dot.tiff\", compression = 'lzw')\n",
    "# ggsave(\"gte_GO_GBM.NSC.c7_dot.png\")\n",
    "# See the rest in R script in harddrive. "
   ]
  },
  {
   "cell_type": "code",
   "execution_count": null,
   "id": "alternate-texture",
   "metadata": {},
   "outputs": [],
   "source": []
  },
  {
   "cell_type": "code",
   "execution_count": 19,
   "id": "miniature-pursuit",
   "metadata": {},
   "outputs": [
    {
     "data": {
      "text/plain": [
       "R version 4.0.2 (2020-06-22)\n",
       "Platform: x86_64-pc-linux-gnu (64-bit)\n",
       "Running under: CentOS Linux 7 (Core)\n",
       "\n",
       "Matrix products: default\n",
       "BLAS/LAPACK: /cvmfs/soft.computecanada.ca/easybuild/software/2020/Core/imkl/2020.1.217/compilers_and_libraries_2020.1.217/linux/mkl/lib/intel64_lin/libmkl_gf_lp64.so\n",
       "\n",
       "locale:\n",
       " [1] LC_CTYPE=en_CA.UTF-8       LC_NUMERIC=C              \n",
       " [3] LC_TIME=en_CA.UTF-8        LC_COLLATE=en_CA.UTF-8    \n",
       " [5] LC_MONETARY=en_CA.UTF-8    LC_MESSAGES=en_CA.UTF-8   \n",
       " [7] LC_PAPER=en_CA.UTF-8       LC_NAME=C                 \n",
       " [9] LC_ADDRESS=C               LC_TELEPHONE=C            \n",
       "[11] LC_MEASUREMENT=en_CA.UTF-8 LC_IDENTIFICATION=C       \n",
       "\n",
       "attached base packages:\n",
       "[1] stats4    parallel  stats     graphics  grDevices utils     datasets \n",
       "[8] methods   base     \n",
       "\n",
       "other attached packages:\n",
       " [1] GO.db_3.12.1         org.Hs.eg.db_3.12.0  GOstats_2.56.0      \n",
       " [4] graph_1.68.0         Category_2.56.0      Matrix_1.3-2        \n",
       " [7] AnnotationDbi_1.52.0 IRanges_2.24.1       S4Vectors_0.28.1    \n",
       "[10] Biobase_2.50.0       BiocGenerics_0.36.1  dplyr_1.0.7         \n",
       "[13] ggplot2_3.3.5       \n",
       "\n",
       "loaded via a namespace (and not attached):\n",
       " [1] Rcpp_1.0.7             lattice_0.20-41        assertthat_0.2.1      \n",
       " [4] digest_0.6.27          utf8_1.2.1             IRdisplay_1.0.0.9000  \n",
       " [7] R6_2.5.0               repr_1.1.3.9000        RSQLite_2.2.6         \n",
       "[10] evaluate_0.14          httr_1.4.2             pillar_1.6.1          \n",
       "[13] rlang_0.4.10           uuid_0.1-4             annotate_1.68.0       \n",
       "[16] Rgraphviz_2.34.0       blob_1.2.1             splines_4.0.2         \n",
       "[19] RCurl_1.98-1.3         bit_4.0.4              munsell_0.5.0         \n",
       "[22] compiler_4.0.2         pkgconfig_2.0.3        base64enc_0.1-3       \n",
       "[25] htmltools_0.5.1.1      tidyselect_1.1.1       tibble_3.1.3          \n",
       "[28] XML_3.99-0.6           AnnotationForge_1.32.0 fansi_0.4.2           \n",
       "[31] crayon_1.4.1           withr_2.4.2            bitops_1.0-7          \n",
       "[34] grid_4.0.2             RBGL_1.66.0            jsonlite_1.7.2        \n",
       "[37] xtable_1.8-4           GSEABase_1.52.1        gtable_0.3.0          \n",
       "[40] lifecycle_1.0.0        DBI_1.1.1              magrittr_2.0.1        \n",
       "[43] scales_1.1.1           cachem_1.0.5           genefilter_1.72.1     \n",
       "[46] ellipsis_0.3.2         generics_0.1.0         vctrs_0.3.8           \n",
       "[49] IRkernel_1.1.1.9000    tools_4.0.2            bit64_4.0.5           \n",
       "[52] glue_1.6.2             purrr_0.3.4            fastmap_1.1.0         \n",
       "[55] survival_3.2-13        colorspace_2.0-2       memoise_2.0.0         \n",
       "[58] pbdZMQ_0.3-5          "
      ]
     },
     "metadata": {},
     "output_type": "display_data"
    }
   ],
   "source": [
    "sessionInfo()"
   ]
  }
 ],
 "metadata": {
  "kernelspec": {
   "display_name": "R",
   "language": "R",
   "name": "ir"
  },
  "language_info": {
   "codemirror_mode": "r",
   "file_extension": ".r",
   "mimetype": "text/x-r-source",
   "name": "R",
   "pygments_lexer": "r",
   "version": "4.0.2"
  },
  "toc": {
   "base_numbering": 1,
   "nav_menu": {},
   "number_sections": true,
   "sideBar": true,
   "skip_h1_title": true,
   "title_cell": "Table of Contents",
   "title_sidebar": "Contents",
   "toc_cell": false,
   "toc_position": {},
   "toc_section_display": true,
   "toc_window_display": false
  }
 },
 "nbformat": 4,
 "nbformat_minor": 5
}
