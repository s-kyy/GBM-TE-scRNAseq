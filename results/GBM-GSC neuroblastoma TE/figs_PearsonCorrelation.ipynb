{
 "cells": [
  {
   "cell_type": "markdown",
   "id": "christian-advantage",
   "metadata": {},
   "source": [
    "## Load Libraries and Tools"
   ]
  },
  {
   "cell_type": "code",
   "execution_count": null,
   "id": "emerging-bryan",
   "metadata": {},
   "outputs": [],
   "source": [
    ".libPaths(c(\"/scratch/samkyy/gete-gbm/renv/library/R-4.0/x86_64-pc-linux-gnu\",\"/tmp/RtmpJsRC8Z/renv-system-library\", .libPaths()))\n",
    ".libPaths()"
   ]
  },
  {
   "cell_type": "code",
   "execution_count": null,
   "id": "brilliant-cotton",
   "metadata": {},
   "outputs": [],
   "source": [
    "resultsPath <- \"~/scratch/gete-gbm/results\"\n",
    "getwd()"
   ]
  },
  {
   "cell_type": "code",
   "execution_count": null,
   "id": "spanish-arabic",
   "metadata": {},
   "outputs": [],
   "source": [
    "library(ggplot2)\n",
    "library(dplyr)\n",
    "source(\"~/scratch/gete-gbm/bin/util.R\")\n",
    "source(\"~/scratch/gete-gbm/bin/util_seurat.R\")"
   ]
  },
  {
   "cell_type": "code",
   "execution_count": null,
   "id": "resistant-butter",
   "metadata": {},
   "outputs": [],
   "source": [
    "library(tidyverse)\n",
    "library(conflicted)\n",
    "conflict_prefer(\"select\", \"dplyr\") ## required in %>% dplyr\n",
    "conflict_prefer(\"rowRanges\", \"MatrixGenerics\") # required in new_cell_data_set()"
   ]
  },
  {
   "cell_type": "markdown",
   "id": "broadband-desert",
   "metadata": {},
   "source": [
    "## Pearson Correlation"
   ]
  },
  {
   "cell_type": "code",
   "execution_count": 1,
   "id": "classified-projector",
   "metadata": {},
   "outputs": [
    {
     "ename": "ERROR",
     "evalue": "Error in setwdToday(): could not find function \"setwdToday\"\n",
     "output_type": "error",
     "traceback": [
      "Error in setwdToday(): could not find function \"setwdToday\"\nTraceback:\n"
     ]
    }
   ],
   "source": [
    "# mkdirToday()\n",
    "setwdToday()\n",
    "getwd()"
   ]
  },
  {
   "cell_type": "code",
   "execution_count": null,
   "id": "pointed-provider",
   "metadata": {},
   "outputs": [],
   "source": [
    "gte <- readRDS(\"~/projects/def-ytanaka/common/te-gbm_proj/analysis/gte_gbmscIntUmap-subtypes.rds\") "
   ]
  },
  {
   "cell_type": "code",
   "execution_count": null,
   "id": "welsh-criminal",
   "metadata": {},
   "outputs": [],
   "source": [
    "colnames(gte@meta.data)"
   ]
  },
  {
   "cell_type": "code",
   "execution_count": null,
   "id": "present-essex",
   "metadata": {},
   "outputs": [],
   "source": [
    "#color=integrated_snn_res.0.3"
   ]
  },
  {
   "cell_type": "code",
   "execution_count": null,
   "id": "pressing-married",
   "metadata": {},
   "outputs": [],
   "source": [
    "gte@meta.data %>% ggplot(aes(x=mitoRatio, y=teRatio)) + geom_point() + \n",
    "    facet_wrap(\"integrated_snn_res.0.3\") + geom_smooth(method=lm) +\n",
    "    theme_classic() + xlab(\"Mitochondrial Ratio (%)\") + ylab(\"Retrotransposon expression Ratio (%)\") +\n",
    "    theme(axis.text.x = element_text(angle = 40, vjust = 0.9, hjust=0.8))"
   ]
  },
  {
   "cell_type": "code",
   "execution_count": null,
   "id": "descending-merchandise",
   "metadata": {},
   "outputs": [],
   "source": [
    "size = 7\n",
    "ggsave(\"r_gbmsc_PC20r03_mitoRatio_teratio.tiff\", units=\"in\", width=size, height=size, dpi=300, compression = 'lzw')"
   ]
  },
  {
   "cell_type": "code",
   "execution_count": null,
   "id": "robust-invention",
   "metadata": {},
   "outputs": [],
   "source": []
  },
  {
   "cell_type": "code",
   "execution_count": null,
   "id": "frozen-emission",
   "metadata": {},
   "outputs": [],
   "source": []
  },
  {
   "cell_type": "code",
   "execution_count": null,
   "id": "enormous-highland",
   "metadata": {},
   "outputs": [],
   "source": []
  }
 ],
 "metadata": {
  "kernelspec": {
   "display_name": "R",
   "language": "R",
   "name": "ir"
  },
  "language_info": {
   "codemirror_mode": "r",
   "file_extension": ".r",
   "mimetype": "text/x-r-source",
   "name": "R",
   "pygments_lexer": "r",
   "version": "4.0.2"
  },
  "toc": {
   "base_numbering": 1,
   "nav_menu": {},
   "number_sections": true,
   "sideBar": true,
   "skip_h1_title": true,
   "title_cell": "Table of Contents",
   "title_sidebar": "Contents",
   "toc_cell": false,
   "toc_position": {},
   "toc_section_display": true,
   "toc_window_display": false
  }
 },
 "nbformat": 4,
 "nbformat_minor": 5
}
