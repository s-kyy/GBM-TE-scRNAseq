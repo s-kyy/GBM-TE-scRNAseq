{
 "cells": [
  {
   "cell_type": "markdown",
   "id": "guided-combat",
   "metadata": {},
   "source": [
    "- [x] In each cluster what is the sample composition?\n",
    "- [ ] What is the mitochondrial gene ratio in UMAP form?"
   ]
  },
  {
   "cell_type": "markdown",
   "id": "independent-disorder",
   "metadata": {
    "heading_collapsed": true
   },
   "source": [
    "## Load Libraries and Tools"
   ]
  },
  {
   "cell_type": "code",
   "execution_count": 1,
   "id": "noticed-roberts",
   "metadata": {
    "hidden": true
   },
   "outputs": [
    {
     "data": {
      "text/html": [
       "<style>\n",
       ".list-inline {list-style: none; margin:0; padding: 0}\n",
       ".list-inline>li {display: inline-block}\n",
       ".list-inline>li:not(:last-child)::after {content: \"\\00b7\"; padding: 0 .5ex}\n",
       "</style>\n",
       "<ol class=list-inline><li>'/home/samkyy/R/x86_64-pc-linux-gnu-library/tcga-gbm-R4/renv/library/R-4.0/x86_64-pc-linux-gnu'</li><li>'/home/samkyy/R/x86_64-pc-linux-gnu-library/4.0'</li><li>'/cvmfs/soft.computecanada.ca/easybuild/software/2020/avx2/Core/r/4.0.2/lib64/R/library'</li></ol>\n"
      ],
      "text/latex": [
       "\\begin{enumerate*}\n",
       "\\item '/home/samkyy/R/x86\\_64-pc-linux-gnu-library/tcga-gbm-R4/renv/library/R-4.0/x86\\_64-pc-linux-gnu'\n",
       "\\item '/home/samkyy/R/x86\\_64-pc-linux-gnu-library/4.0'\n",
       "\\item '/cvmfs/soft.computecanada.ca/easybuild/software/2020/avx2/Core/r/4.0.2/lib64/R/library'\n",
       "\\end{enumerate*}\n"
      ],
      "text/markdown": [
       "1. '/home/samkyy/R/x86_64-pc-linux-gnu-library/tcga-gbm-R4/renv/library/R-4.0/x86_64-pc-linux-gnu'\n",
       "2. '/home/samkyy/R/x86_64-pc-linux-gnu-library/4.0'\n",
       "3. '/cvmfs/soft.computecanada.ca/easybuild/software/2020/avx2/Core/r/4.0.2/lib64/R/library'\n",
       "\n",
       "\n"
      ],
      "text/plain": [
       "[1] \"/home/samkyy/R/x86_64-pc-linux-gnu-library/tcga-gbm-R4/renv/library/R-4.0/x86_64-pc-linux-gnu\"\n",
       "[2] \"/home/samkyy/R/x86_64-pc-linux-gnu-library/4.0\"                                               \n",
       "[3] \"/cvmfs/soft.computecanada.ca/easybuild/software/2020/avx2/Core/r/4.0.2/lib64/R/library\"       "
      ]
     },
     "metadata": {},
     "output_type": "display_data"
    }
   ],
   "source": [
    ".libPaths(c(\"/scratch/samkyy/gete-gbm/renv/library/R-4.0/x86_64-pc-linux-gnu\",\"/tmp/RtmpJsRC8Z/renv-system-library\", .libPaths()))\n",
    ".libPaths()"
   ]
  },
  {
   "cell_type": "code",
   "execution_count": 3,
   "id": "olive-geology",
   "metadata": {
    "hidden": true
   },
   "outputs": [
    {
     "data": {
      "text/html": [
       "'/scratch/samkyy/gete-gbm/results/2022-10-14'"
      ],
      "text/latex": [
       "'/scratch/samkyy/gete-gbm/results/2022-10-14'"
      ],
      "text/markdown": [
       "'/scratch/samkyy/gete-gbm/results/2022-10-14'"
      ],
      "text/plain": [
       "[1] \"/scratch/samkyy/gete-gbm/results/2022-10-14\""
      ]
     },
     "metadata": {},
     "output_type": "display_data"
    }
   ],
   "source": [
    "resultsPath <- \"~/scratch/gete-gbm/results\"\n",
    "getwd()"
   ]
  },
  {
   "cell_type": "code",
   "execution_count": 4,
   "id": "moved-supplement",
   "metadata": {
    "hidden": true
   },
   "outputs": [
    {
     "name": "stderr",
     "output_type": "stream",
     "text": [
      "\n",
      "Attaching package: ‘dplyr’\n",
      "\n",
      "\n",
      "The following objects are masked from ‘package:stats’:\n",
      "\n",
      "    filter, lag\n",
      "\n",
      "\n",
      "The following objects are masked from ‘package:base’:\n",
      "\n",
      "    intersect, setdiff, setequal, union\n",
      "\n",
      "\n",
      "Attaching SeuratObject\n",
      "\n",
      "Warning message in system(\"timedatectl\", intern = TRUE):\n",
      "“running command 'timedatectl' had status 1”\n",
      "── \u001b[1mAttaching packages\u001b[22m ─────────────────────────────────────── tidyverse 1.3.1 ──\n",
      "\n",
      "\u001b[32m✔\u001b[39m \u001b[34mtibble \u001b[39m 3.1.3     \u001b[32m✔\u001b[39m \u001b[34mpurrr  \u001b[39m 0.3.4\n",
      "\u001b[32m✔\u001b[39m \u001b[34mtidyr  \u001b[39m 1.1.3     \u001b[32m✔\u001b[39m \u001b[34mstringr\u001b[39m 1.4.0\n",
      "\u001b[32m✔\u001b[39m \u001b[34mreadr  \u001b[39m 2.0.1     \u001b[32m✔\u001b[39m \u001b[34mforcats\u001b[39m 0.5.1\n",
      "\n",
      "── \u001b[1mConflicts\u001b[22m ────────────────────────────────────────── tidyverse_conflicts() ──\n",
      "\u001b[31m✖\u001b[39m \u001b[34mtidyr\u001b[39m::\u001b[32mexpand()\u001b[39m masks \u001b[34mMatrix\u001b[39m::expand()\n",
      "\u001b[31m✖\u001b[39m \u001b[34mdplyr\u001b[39m::\u001b[32mfilter()\u001b[39m masks \u001b[34mstats\u001b[39m::filter()\n",
      "\u001b[31m✖\u001b[39m \u001b[34mdplyr\u001b[39m::\u001b[32mlag()\u001b[39m    masks \u001b[34mstats\u001b[39m::lag()\n",
      "\u001b[31m✖\u001b[39m \u001b[34mtidyr\u001b[39m::\u001b[32mpack()\u001b[39m   masks \u001b[34mMatrix\u001b[39m::pack()\n",
      "\u001b[31m✖\u001b[39m \u001b[34mreadr\u001b[39m::\u001b[32mspec()\u001b[39m   masks \u001b[34mgenefilter\u001b[39m::spec()\n",
      "\u001b[31m✖\u001b[39m \u001b[34mtidyr\u001b[39m::\u001b[32munpack()\u001b[39m masks \u001b[34mMatrix\u001b[39m::unpack()\n",
      "\n",
      "\n",
      "Attaching package: ‘RCurl’\n",
      "\n",
      "\n",
      "The following object is masked from ‘package:tidyr’:\n",
      "\n",
      "    complete\n",
      "\n",
      "\n",
      "\n",
      "Attaching package: ‘scales’\n",
      "\n",
      "\n",
      "The following object is masked from ‘package:purrr’:\n",
      "\n",
      "    discard\n",
      "\n",
      "\n",
      "The following object is masked from ‘package:readr’:\n",
      "\n",
      "    col_factor\n",
      "\n",
      "\n",
      "\n",
      "Attaching package: ‘gridExtra’\n",
      "\n",
      "\n",
      "The following object is masked from ‘package:dplyr’:\n",
      "\n",
      "    combine\n",
      "\n",
      "\n"
     ]
    }
   ],
   "source": [
    "library(ggplot2)\n",
    "library(dplyr)\n",
    "source(\"~/scratch/gete-gbm/bin/util.R\")\n",
    "source(\"~/scratch/gete-gbm/bin/util_seurat.R\")"
   ]
  },
  {
   "cell_type": "code",
   "execution_count": 7,
   "id": "noticed-gravity",
   "metadata": {
    "hidden": true
   },
   "outputs": [
    {
     "name": "stderr",
     "output_type": "stream",
     "text": [
      "[conflicted] Will prefer \u001b[34mdplyr::select\u001b[39m over any other package\n",
      "\n",
      "[conflicted] Will prefer \u001b[34mMatrixGenerics::rowRanges\u001b[39m over any other package\n",
      "\n"
     ]
    }
   ],
   "source": [
    "library(tidyverse)\n",
    "library(conflicted)\n",
    "conflict_prefer(\"select\", \"dplyr\") ## required in %>% dplyr\n",
    "conflict_prefer(\"rowRanges\", \"MatrixGenerics\") # required in new_cell_data_set()"
   ]
  },
  {
   "cell_type": "markdown",
   "id": "powerful-recall",
   "metadata": {},
   "source": [
    "## Load Data"
   ]
  },
  {
   "cell_type": "code",
   "execution_count": 8,
   "id": "respective-switch",
   "metadata": {},
   "outputs": [],
   "source": [
    "gte <- readRDS(\"/home/samkyy/projects/def-ytanaka/common/te-gbm_proj/analysis/gte_gbmscIntUmap-subtypes.rds\") "
   ]
  },
  {
   "cell_type": "code",
   "execution_count": 11,
   "id": "internal-delhi",
   "metadata": {},
   "outputs": [
    {
     "data": {
      "text/html": [
       "<style>\n",
       ".list-inline {list-style: none; margin:0; padding: 0}\n",
       ".list-inline>li {display: inline-block}\n",
       ".list-inline>li:not(:last-child)::after {content: \"\\00b7\"; padding: 0 .5ex}\n",
       "</style>\n",
       "<ol class=list-inline><li>'orig.ident'</li><li>'nUMI'</li><li>'nGene'</li><li>'log10GenesPerUMI'</li><li>'mitoRatio'</li><li>'cells'</li><li>'sample'</li><li>'nCount_RNA'</li><li>'nFeature_RNA'</li><li>'GBM_integrated_snn_res.0.8'</li><li>'GBM_seurat_clusters'</li><li>'neuro.ident'</li><li>'nCount_integrated'</li><li>'nFeature_integrated'</li><li>'integrated_snn_res.0.7'</li><li>'seurat_clusters'</li><li>'MGMTme'</li><li>'sampleCombined'</li><li>'integrated_snn_res.0.2'</li><li>'integrated_snn_res.0.3'</li><li>'integrated_snn_res.0.4'</li><li>'integrated_snn_res.0.5'</li><li>'integrated_snn_res.0.6'</li><li>'teRatio'</li><li>'gbm_subtype'</li></ol>\n"
      ],
      "text/latex": [
       "\\begin{enumerate*}\n",
       "\\item 'orig.ident'\n",
       "\\item 'nUMI'\n",
       "\\item 'nGene'\n",
       "\\item 'log10GenesPerUMI'\n",
       "\\item 'mitoRatio'\n",
       "\\item 'cells'\n",
       "\\item 'sample'\n",
       "\\item 'nCount\\_RNA'\n",
       "\\item 'nFeature\\_RNA'\n",
       "\\item 'GBM\\_integrated\\_snn\\_res.0.8'\n",
       "\\item 'GBM\\_seurat\\_clusters'\n",
       "\\item 'neuro.ident'\n",
       "\\item 'nCount\\_integrated'\n",
       "\\item 'nFeature\\_integrated'\n",
       "\\item 'integrated\\_snn\\_res.0.7'\n",
       "\\item 'seurat\\_clusters'\n",
       "\\item 'MGMTme'\n",
       "\\item 'sampleCombined'\n",
       "\\item 'integrated\\_snn\\_res.0.2'\n",
       "\\item 'integrated\\_snn\\_res.0.3'\n",
       "\\item 'integrated\\_snn\\_res.0.4'\n",
       "\\item 'integrated\\_snn\\_res.0.5'\n",
       "\\item 'integrated\\_snn\\_res.0.6'\n",
       "\\item 'teRatio'\n",
       "\\item 'gbm\\_subtype'\n",
       "\\end{enumerate*}\n"
      ],
      "text/markdown": [
       "1. 'orig.ident'\n",
       "2. 'nUMI'\n",
       "3. 'nGene'\n",
       "4. 'log10GenesPerUMI'\n",
       "5. 'mitoRatio'\n",
       "6. 'cells'\n",
       "7. 'sample'\n",
       "8. 'nCount_RNA'\n",
       "9. 'nFeature_RNA'\n",
       "10. 'GBM_integrated_snn_res.0.8'\n",
       "11. 'GBM_seurat_clusters'\n",
       "12. 'neuro.ident'\n",
       "13. 'nCount_integrated'\n",
       "14. 'nFeature_integrated'\n",
       "15. 'integrated_snn_res.0.7'\n",
       "16. 'seurat_clusters'\n",
       "17. 'MGMTme'\n",
       "18. 'sampleCombined'\n",
       "19. 'integrated_snn_res.0.2'\n",
       "20. 'integrated_snn_res.0.3'\n",
       "21. 'integrated_snn_res.0.4'\n",
       "22. 'integrated_snn_res.0.5'\n",
       "23. 'integrated_snn_res.0.6'\n",
       "24. 'teRatio'\n",
       "25. 'gbm_subtype'\n",
       "\n",
       "\n"
      ],
      "text/plain": [
       " [1] \"orig.ident\"                 \"nUMI\"                      \n",
       " [3] \"nGene\"                      \"log10GenesPerUMI\"          \n",
       " [5] \"mitoRatio\"                  \"cells\"                     \n",
       " [7] \"sample\"                     \"nCount_RNA\"                \n",
       " [9] \"nFeature_RNA\"               \"GBM_integrated_snn_res.0.8\"\n",
       "[11] \"GBM_seurat_clusters\"        \"neuro.ident\"               \n",
       "[13] \"nCount_integrated\"          \"nFeature_integrated\"       \n",
       "[15] \"integrated_snn_res.0.7\"     \"seurat_clusters\"           \n",
       "[17] \"MGMTme\"                     \"sampleCombined\"            \n",
       "[19] \"integrated_snn_res.0.2\"     \"integrated_snn_res.0.3\"    \n",
       "[21] \"integrated_snn_res.0.4\"     \"integrated_snn_res.0.5\"    \n",
       "[23] \"integrated_snn_res.0.6\"     \"teRatio\"                   \n",
       "[25] \"gbm_subtype\"               "
      ]
     },
     "metadata": {},
     "output_type": "display_data"
    }
   ],
   "source": [
    "colnames(gte@meta.data)"
   ]
  },
  {
   "cell_type": "markdown",
   "id": "current-family",
   "metadata": {},
   "source": [
    "## Sample Composition"
   ]
  },
  {
   "cell_type": "code",
   "execution_count": 12,
   "id": "hydraulic-assembly",
   "metadata": {},
   "outputs": [],
   "source": [
    "Idents(gte) <- \"integrated_snn_res.0.3\""
   ]
  },
  {
   "cell_type": "code",
   "execution_count": 13,
   "id": "gentle-viewer",
   "metadata": {},
   "outputs": [],
   "source": [
    "DefaultAssay(gte) <- \"RNA\""
   ]
  },
  {
   "cell_type": "code",
   "execution_count": 14,
   "id": "hearing-bennett",
   "metadata": {},
   "outputs": [],
   "source": [
    "sampleNames <- unique(gte$sampleCombined)"
   ]
  },
  {
   "cell_type": "code",
   "execution_count": 30,
   "id": "emerging-defendant",
   "metadata": {},
   "outputs": [],
   "source": [
    "df_gte <- gte@meta.data %>%\n",
    "                group_by(sampleCombined) %>%\n",
    "                count(integrated_snn_res.0.3)\n",
    "df_gte$sampleCombined <- factor(df_gte$sampleCombined, levels = sampleNames)"
   ]
  },
  {
   "cell_type": "code",
   "execution_count": 47,
   "id": "confidential-chambers",
   "metadata": {
    "scrolled": false
   },
   "outputs": [
    {
     "data": {
      "text/html": [
       "<table class=\"dataframe\">\n",
       "<caption>A grouped_df: 6 × 5</caption>\n",
       "<thead>\n",
       "\t<tr><th scope=col>sampleCombined</th><th scope=col>integrated_snn_res.0.3</th><th scope=col>n</th><th scope=col>freq</th><th scope=col>rounded</th></tr>\n",
       "\t<tr><th scope=col>&lt;fct&gt;</th><th scope=col>&lt;fct&gt;</th><th scope=col>&lt;int&gt;</th><th scope=col>&lt;dbl&gt;</th><th scope=col>&lt;dbl&gt;</th></tr>\n",
       "</thead>\n",
       "<tbody>\n",
       "\t<tr><td>SF11159</td><td>0</td><td>566</td><td>6.450142</td><td>6.45</td></tr>\n",
       "\t<tr><td>SF11159</td><td>1</td><td>513</td><td>6.011249</td><td>6.01</td></tr>\n",
       "\t<tr><td>SF11159</td><td>2</td><td>307</td><td>3.794808</td><td>3.79</td></tr>\n",
       "\t<tr><td>SF11159</td><td>3</td><td>539</td><td>7.638889</td><td>7.64</td></tr>\n",
       "\t<tr><td>SF11159</td><td>4</td><td>138</td><td>2.761104</td><td>2.76</td></tr>\n",
       "\t<tr><td>SF11159</td><td>5</td><td>394</td><td>8.912011</td><td>8.91</td></tr>\n",
       "</tbody>\n",
       "</table>\n"
      ],
      "text/latex": [
       "A grouped\\_df: 6 × 5\n",
       "\\begin{tabular}{lllll}\n",
       " sampleCombined & integrated\\_snn\\_res.0.3 & n & freq & rounded\\\\\n",
       " <fct> & <fct> & <int> & <dbl> & <dbl>\\\\\n",
       "\\hline\n",
       "\t SF11159 & 0 & 566 & 6.450142 & 6.45\\\\\n",
       "\t SF11159 & 1 & 513 & 6.011249 & 6.01\\\\\n",
       "\t SF11159 & 2 & 307 & 3.794808 & 3.79\\\\\n",
       "\t SF11159 & 3 & 539 & 7.638889 & 7.64\\\\\n",
       "\t SF11159 & 4 & 138 & 2.761104 & 2.76\\\\\n",
       "\t SF11159 & 5 & 394 & 8.912011 & 8.91\\\\\n",
       "\\end{tabular}\n"
      ],
      "text/markdown": [
       "\n",
       "A grouped_df: 6 × 5\n",
       "\n",
       "| sampleCombined &lt;fct&gt; | integrated_snn_res.0.3 &lt;fct&gt; | n &lt;int&gt; | freq &lt;dbl&gt; | rounded &lt;dbl&gt; |\n",
       "|---|---|---|---|---|\n",
       "| SF11159 | 0 | 566 | 6.450142 | 6.45 |\n",
       "| SF11159 | 1 | 513 | 6.011249 | 6.01 |\n",
       "| SF11159 | 2 | 307 | 3.794808 | 3.79 |\n",
       "| SF11159 | 3 | 539 | 7.638889 | 7.64 |\n",
       "| SF11159 | 4 | 138 | 2.761104 | 2.76 |\n",
       "| SF11159 | 5 | 394 | 8.912011 | 8.91 |\n",
       "\n"
      ],
      "text/plain": [
       "  sampleCombined integrated_snn_res.0.3 n   freq     rounded\n",
       "1 SF11159        0                      566 6.450142 6.45   \n",
       "2 SF11159        1                      513 6.011249 6.01   \n",
       "3 SF11159        2                      307 3.794808 3.79   \n",
       "4 SF11159        3                      539 7.638889 7.64   \n",
       "5 SF11159        4                      138 2.761104 2.76   \n",
       "6 SF11159        5                      394 8.912011 8.91   "
      ]
     },
     "metadata": {},
     "output_type": "display_data"
    }
   ],
   "source": [
    "df_gte <- df_gte %>% \n",
    "            group_by(integrated_snn_res.0.3) %>% \n",
    "            mutate(freq = (n / sum(n))*100) %>%\n",
    "            mutate(rounded = round(freq, 2))\n",
    "# df_gte %>% mutate(across(4, round, 2))\n",
    "head(df_gte)"
   ]
  },
  {
   "cell_type": "markdown",
   "id": "derived-holder",
   "metadata": {},
   "source": [
    "Ref for colorblind color palette: http://www.cookbook-r.com/Graphs/Colors_(ggplot2)/"
   ]
  },
  {
   "cell_type": "code",
   "execution_count": 90,
   "id": "metric-bikini",
   "metadata": {},
   "outputs": [],
   "source": [
    "# cbPalette <- c(\"#999999\", \"#E69F00\", \"#56B4E9\", \"#009E73\", \n",
    "#                \"#F0E442\", \"#0072B2\", \"#D55E00\", \"#CC79A7\")\n",
    "\n",
    "cbPalette <- c(\"#E69F00\", \"#56B4E9\", \"#009E73\", \"#F0E442\", \n",
    "               \"#CC79A7\", \"#ff716e\", \"#999999\", \"#0072B2\", \"#194c76\", \"#D55E00\")\n",
    "    # with grey and black and analogous magenta "
   ]
  },
  {
   "cell_type": "code",
   "execution_count": 100,
   "id": "announced-metropolitan",
   "metadata": {},
   "outputs": [
    {
     "data": {
      "image/png": "[encoded data removed]",
      "text/plain": [
       "plot without title"
      ]
     },
     "metadata": {
      "image/png": {
       "height": 420,
       "width": 420
      }
     },
     "output_type": "display_data"
    }
   ],
   "source": [
    "p2 <- df_gte %>% \n",
    "    ggplot(aes(x=integrated_snn_res.0.3, y=rounded, fill=sampleCombined)) + \n",
    "        scale_fill_manual(values = cbPalette) + \n",
    "        geom_bar( stat=\"identity\", width = 0.9) + theme_classic() + \n",
    "        labs(y = \"Sample Composition (%)\", x = \"Cluster ID\", fill= \"Samples\")\n",
    "        \n",
    "p2"
   ]
  },
  {
   "cell_type": "code",
   "execution_count": 96,
   "id": "retired-allocation",
   "metadata": {},
   "outputs": [],
   "source": [
    "size = 6\n",
    "ggsave(\"r_gbmsc_PC20r03_SampleCompositionPerCluster.tiff\", units=\"in\", width=size, height=size*0.7, dpi=300, compression = 'lzw')"
   ]
  },
  {
   "cell_type": "code",
   "execution_count": 101,
   "id": "instructional-operation",
   "metadata": {},
   "outputs": [
    {
     "data": {
      "image/png": "[encoded data removed]",
      "text/plain": [
       "plot without title"
      ]
     },
     "metadata": {
      "image/png": {
       "height": 420,
       "width": 420
      }
     },
     "output_type": "display_data"
    }
   ],
   "source": [
    "p2 <- df_gte %>% \n",
    "    ggplot(aes(x=integrated_snn_res.0.3, y=rounded, fill=sampleCombined)) + \n",
    "#         scale_fill_manual(values = cbPalette) + \n",
    "        geom_bar( stat=\"identity\", width = 0.9) + theme_classic() + \n",
    "        labs(y = \"Sample Composition (%)\", x = \"Cluster ID\", fill= \"Samples\")\n",
    "        \n",
    "p2"
   ]
  },
  {
   "cell_type": "code",
   "execution_count": 102,
   "id": "united-error",
   "metadata": {},
   "outputs": [],
   "source": [
    "size = 6\n",
    "ggsave(\"r_gbmsc_PC20r03_SampleCompositionPerCluster_rgb.tiff\", units=\"in\", width=size, height=size*0.7, dpi=300, compression = 'lzw')"
   ]
  },
  {
   "cell_type": "markdown",
   "id": "specified-forth",
   "metadata": {},
   "source": [
    "## Mitochondrial Ratio"
   ]
  },
  {
   "cell_type": "code",
   "execution_count": 105,
   "id": "forward-oregon",
   "metadata": {
    "scrolled": false
   },
   "outputs": [
    {
     "data": {
      "image/png": "[encoded data removed]",
      "text/plain": [
       "plot without title"
      ]
     },
     "metadata": {
      "image/png": {
       "height": 420,
       "width": 420
      }
     },
     "output_type": "display_data"
    }
   ],
   "source": [
    "p2 <- gte@meta.data %>%\n",
    "        ggplot(aes(x=integrated_snn_res.0.3, y=mitoRatio, fill=sampleCombined)) + \n",
    "        geom_bar( stat=\"identity\", width = 0.9) + theme_classic() \n",
    "p2"
   ]
  },
  {
   "cell_type": "code",
   "execution_count": null,
   "id": "honey-kansas",
   "metadata": {},
   "outputs": [],
   "source": [
    "FeaturePlot(object = gte, features = gte$mitoRatio)"
   ]
  },
  {
   "cell_type": "code",
   "execution_count": null,
   "id": "gentle-necessity",
   "metadata": {},
   "outputs": [],
   "source": [
    "size = 7\n",
    "ggsave(\"r_gbmsc_PC20r03_mitoRatio.tiff\", units=\"in\", width=size*1.2, height=size, dpi=300, compression = 'lzw')"
   ]
  },
  {
   "cell_type": "code",
   "execution_count": null,
   "id": "fundamental-analyst",
   "metadata": {},
   "outputs": [],
   "source": []
  },
  {
   "cell_type": "code",
   "execution_count": null,
   "id": "significant-excess",
   "metadata": {},
   "outputs": [],
   "source": []
  },
  {
   "cell_type": "code",
   "execution_count": null,
   "id": "korean-twins",
   "metadata": {},
   "outputs": [],
   "source": []
  },
  {
   "cell_type": "code",
   "execution_count": null,
   "id": "alleged-collins",
   "metadata": {},
   "outputs": [],
   "source": []
  },
  {
   "cell_type": "code",
   "execution_count": null,
   "id": "engaging-thing",
   "metadata": {},
   "outputs": [],
   "source": []
  },
  {
   "cell_type": "code",
   "execution_count": 5,
   "id": "independent-technician",
   "metadata": {},
   "outputs": [
    {
     "data": {
      "text/plain": [
       "R version 4.0.2 (2020-06-22)\n",
       "Platform: x86_64-pc-linux-gnu (64-bit)\n",
       "Running under: CentOS Linux 7 (Core)\n",
       "\n",
       "Matrix products: default\n",
       "BLAS/LAPACK: /cvmfs/soft.computecanada.ca/easybuild/software/2020/Core/imkl/2020.1.217/compilers_and_libraries_2020.1.217/linux/mkl/lib/intel64_lin/libmkl_gf_lp64.so\n",
       "\n",
       "locale:\n",
       " [1] LC_CTYPE=en_CA.UTF-8       LC_NUMERIC=C              \n",
       " [3] LC_TIME=en_CA.UTF-8        LC_COLLATE=en_CA.UTF-8    \n",
       " [5] LC_MONETARY=en_CA.UTF-8    LC_MESSAGES=en_CA.UTF-8   \n",
       " [7] LC_PAPER=en_CA.UTF-8       LC_NAME=C                 \n",
       " [9] LC_ADDRESS=C               LC_TELEPHONE=C            \n",
       "[11] LC_MEASUREMENT=en_CA.UTF-8 LC_IDENTIFICATION=C       \n",
       "\n",
       "attached base packages:\n",
       "[1] grid      stats     graphics  grDevices utils     datasets  methods  \n",
       "[8] base     \n",
       "\n",
       "other attached packages:\n",
       " [1] ggforce_0.3.3      RColorBrewer_1.1-2 gridExtra_2.3      scales_1.1.1      \n",
       " [5] RCurl_1.98-1.3     forcats_0.5.1      stringr_1.4.0      purrr_0.3.4       \n",
       " [9] readr_2.0.1        tidyr_1.1.3        tibble_3.1.3       tidyverse_1.3.1   \n",
       "[13] genefilter_1.72.1  cowplot_1.1.1      Matrix_1.3-2       SeuratObject_4.0.0\n",
       "[17] Seurat_4.0.1       dplyr_1.0.7        ggplot2_3.3.5     \n",
       "\n",
       "loaded via a namespace (and not attached):\n",
       "  [1] readxl_1.3.1          uuid_0.1-4            backports_1.2.1      \n",
       "  [4] plyr_1.8.6            igraph_1.2.6          repr_1.1.3.9000      \n",
       "  [7] lazyeval_0.2.2        splines_4.0.2         listenv_0.8.0        \n",
       " [10] scattermore_0.7       digest_0.6.27         htmltools_0.5.1.1    \n",
       " [13] fansi_0.4.2           magrittr_2.0.1        memoise_2.0.0        \n",
       " [16] tensor_1.5            cluster_2.1.1         ROCR_1.0-11          \n",
       " [19] tzdb_0.1.2            globals_0.14.0        annotate_1.68.0      \n",
       " [22] modelr_0.1.8          matrixStats_0.58.0    spatstat.sparse_2.0-0\n",
       " [25] colorspace_2.0-2      rvest_1.0.2           blob_1.2.1           \n",
       " [28] ggrepel_0.9.1         haven_2.4.3           crayon_1.4.1         \n",
       " [31] jsonlite_1.7.2        spatstat.data_2.1-0   survival_3.2-13      \n",
       " [34] zoo_1.8-9             glue_1.6.2            polyclip_1.10-0      \n",
       " [37] gtable_0.3.0          leiden_0.3.9          future.apply_1.7.0   \n",
       " [40] BiocGenerics_0.36.1   abind_1.4-5           DBI_1.1.1            \n",
       " [43] miniUI_0.1.1.1        Rcpp_1.0.7            viridisLite_0.4.0    \n",
       " [46] xtable_1.8-4          reticulate_1.20       spatstat.core_2.3-0  \n",
       " [49] bit_4.0.4             stats4_4.0.2          htmlwidgets_1.5.3    \n",
       " [52] httr_1.4.2            ellipsis_0.3.2        ica_1.0-2            \n",
       " [55] farver_2.1.0          pkgconfig_2.0.3       XML_3.99-0.6         \n",
       " [58] uwot_0.1.10           dbplyr_2.1.1          deldir_0.2-10        \n",
       " [61] utf8_1.2.1            tidyselect_1.1.1      rlang_0.4.10         \n",
       " [64] reshape2_1.4.4        later_1.2.0           AnnotationDbi_1.52.0 \n",
       " [67] munsell_0.5.0         cellranger_1.1.0      tools_4.0.2          \n",
       " [70] cachem_1.0.5          cli_3.3.0             generics_0.1.0       \n",
       " [73] RSQLite_2.2.6         broom_0.7.9           ggridges_0.5.3       \n",
       " [76] evaluate_0.14         fastmap_1.1.0         goftest_1.2-2        \n",
       " [79] fs_1.5.0              bit64_4.0.5           fitdistrplus_1.1-5   \n",
       " [82] RANN_2.6.1            pbapply_1.4-3         future_1.21.0        \n",
       " [85] nlme_3.1-152          mime_0.11             xml2_1.3.2           \n",
       " [88] rstudioapi_0.13       compiler_4.0.2        plotly_4.9.4.1       \n",
       " [91] png_0.1-7             spatstat.utils_2.2-0  reprex_2.0.1         \n",
       " [94] tweenr_1.0.2          stringi_1.7.3         lattice_0.20-41      \n",
       " [97] IRdisplay_1.0.0.9000  vctrs_0.3.8           pillar_1.6.1         \n",
       "[100] lifecycle_1.0.0       spatstat.geom_2.2-2   lmtest_0.9-38        \n",
       "[103] RcppAnnoy_0.0.19      bitops_1.0-7          data.table_1.14.0    \n",
       "[106] irlba_2.3.3           httpuv_1.6.1          patchwork_1.1.1      \n",
       "[109] R6_2.5.0              promises_1.2.0.1      KernSmooth_2.23-18   \n",
       "[112] IRanges_2.24.1        parallelly_1.27.0     codetools_0.2-18     \n",
       "[115] MASS_7.3-54           assertthat_0.2.1      withr_2.4.2          \n",
       "[118] sctransform_0.3.2     S4Vectors_0.28.1      mgcv_1.8-34          \n",
       "[121] parallel_4.0.2        hms_1.1.0             rpart_4.1-15         \n",
       "[124] IRkernel_1.1.1.9000   Rtsne_0.15            pbdZMQ_0.3-5         \n",
       "[127] Biobase_2.50.0        shiny_1.6.0           lubridate_1.8.0      \n",
       "[130] base64enc_0.1-3      "
      ]
     },
     "metadata": {},
     "output_type": "display_data"
    }
   ],
   "source": [
    "sessionInfo()"
   ]
  }
 ],
 "metadata": {
  "kernelspec": {
   "display_name": "R",
   "language": "R",
   "name": "ir"
  },
  "language_info": {
   "codemirror_mode": "r",
   "file_extension": ".r",
   "mimetype": "text/x-r-source",
   "name": "R",
   "pygments_lexer": "r",
   "version": "4.0.2"
  },
  "toc": {
   "base_numbering": 1,
   "nav_menu": {},
   "number_sections": true,
   "sideBar": true,
   "skip_h1_title": true,
   "title_cell": "Table of Contents",
   "title_sidebar": "Contents",
   "toc_cell": false,
   "toc_position": {},
   "toc_section_display": true,
   "toc_window_display": false
  }
 },
 "nbformat": 4,
 "nbformat_minor": 5
}
