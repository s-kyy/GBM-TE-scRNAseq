{
 "cells": [
  {
   "cell_type": "markdown",
   "id": "native-robinson",
   "metadata": {},
   "source": [
    "# Description\n"
   ]
  },
  {
   "cell_type": "code",
   "execution_count": 1,
   "id": "expanded-johnston",
   "metadata": {},
   "outputs": [
    {
     "data": {
      "text/html": [
       "<style>\n",
       ".list-inline {list-style: none; margin:0; padding: 0}\n",
       ".list-inline>li {display: inline-block}\n",
       ".list-inline>li:not(:last-child)::after {content: \"\\00b7\"; padding: 0 .5ex}\n",
       "</style>\n",
       "<ol class=list-inline><li>'/home/samkyy/R/x86_64-pc-linux-gnu-library/tcga-gbm-R4/renv/library/R-4.0/x86_64-pc-linux-gnu'</li><li>'/home/samkyy/R/x86_64-pc-linux-gnu-library/4.0'</li><li>'/cvmfs/soft.computecanada.ca/easybuild/software/2020/avx2/Core/r/4.0.2/lib64/R/library'</li></ol>\n"
      ],
      "text/latex": [
       "\\begin{enumerate*}\n",
       "\\item '/home/samkyy/R/x86\\_64-pc-linux-gnu-library/tcga-gbm-R4/renv/library/R-4.0/x86\\_64-pc-linux-gnu'\n",
       "\\item '/home/samkyy/R/x86\\_64-pc-linux-gnu-library/4.0'\n",
       "\\item '/cvmfs/soft.computecanada.ca/easybuild/software/2020/avx2/Core/r/4.0.2/lib64/R/library'\n",
       "\\end{enumerate*}\n"
      ],
      "text/markdown": [
       "1. '/home/samkyy/R/x86_64-pc-linux-gnu-library/tcga-gbm-R4/renv/library/R-4.0/x86_64-pc-linux-gnu'\n",
       "2. '/home/samkyy/R/x86_64-pc-linux-gnu-library/4.0'\n",
       "3. '/cvmfs/soft.computecanada.ca/easybuild/software/2020/avx2/Core/r/4.0.2/lib64/R/library'\n",
       "\n",
       "\n"
      ],
      "text/plain": [
       "[1] \"/home/samkyy/R/x86_64-pc-linux-gnu-library/tcga-gbm-R4/renv/library/R-4.0/x86_64-pc-linux-gnu\"\n",
       "[2] \"/home/samkyy/R/x86_64-pc-linux-gnu-library/4.0\"                                               \n",
       "[3] \"/cvmfs/soft.computecanada.ca/easybuild/software/2020/avx2/Core/r/4.0.2/lib64/R/library\"       "
      ]
     },
     "metadata": {},
     "output_type": "display_data"
    }
   ],
   "source": [
    "#load libraries and scripts\n",
    ".libPaths(c(\"/scratch/samkyy/gete-gbm/renv/library/R-4.0/x86_64-pc-linux-gnu\",\"/tmp/RtmpJsRC8Z/renv-system-library\", .libPaths()))\n",
    ".libPaths()"
   ]
  },
  {
   "cell_type": "code",
   "execution_count": null,
   "id": "representative-charity",
   "metadata": {},
   "outputs": [],
   "source": []
  }
 ],
 "metadata": {
  "kernelspec": {
   "display_name": "R",
   "language": "R",
   "name": "ir"
  },
  "language_info": {
   "codemirror_mode": "r",
   "file_extension": ".r",
   "mimetype": "text/x-r-source",
   "name": "R",
   "pygments_lexer": "r",
   "version": "4.0.2"
  },
  "toc": {
   "base_numbering": 1,
   "nav_menu": {},
   "number_sections": true,
   "sideBar": true,
   "skip_h1_title": true,
   "title_cell": "Table of Contents",
   "title_sidebar": "Contents",
   "toc_cell": false,
   "toc_position": {},
   "toc_section_display": true,
   "toc_window_display": false
  }
 },
 "nbformat": 4,
 "nbformat_minor": 5
}
